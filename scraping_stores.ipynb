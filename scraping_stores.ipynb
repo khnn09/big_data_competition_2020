{
 "cells": [
  {
   "cell_type": "code",
   "execution_count": 1,
   "metadata": {},
   "outputs": [],
   "source": [
    "# https://golmok.seoul.go.kr/regionAreaAnalysis.do"
   ]
  },
  {
   "cell_type": "code",
   "execution_count": 2,
   "metadata": {},
   "outputs": [],
   "source": [
    "from selenium import webdriver\n",
    "from bs4 import BeautifulSoup\n",
    "import pandas as pd\n",
    "import time\n"
   ]
  },
  {
   "cell_type": "code",
   "execution_count": 3,
   "metadata": {},
   "outputs": [],
   "source": [
    "def general(num):\n",
    "    driver = webdriver.Chrome('./chromedriver')\n",
    "    driver.get(\"https://golmok.seoul.go.kr/regionAreaAnalysis.do\")\n",
    "    driver.find_element_by_xpath('//*[@id=\"loginPop\"]/div/button[1]').click()\n",
    "    driver.find_element_by_xpath(\"//option[@value='1']\").click()\n",
    "    driver.find_element_by_xpath(\"//option[@value='CS100000']\").click()\n",
    "    driver.implicitly_wait(3)\n",
    "    driver.find_element_by_xpath(f\"//option[@value='CS1000{num}']\").click()\n",
    "    driver.find_element_by_xpath(\"//option[@value='store']\").click()\n",
    "    driver.find_element_by_xpath('//*[@id=\"presentSearch\"]').click()\n",
    "    time.sleep(10)\n",
    "    html = driver.page_source\n",
    "    soup = BeautifulSoup(html, 'html.parser')\n",
    "    driver.close()\n",
    "    return soup"
   ]
  },
  {
   "cell_type": "markdown",
   "metadata": {},
   "source": [
    "## 베이스 데이터프레임 생성"
   ]
  },
  {
   "cell_type": "code",
   "execution_count": 4,
   "metadata": {},
   "outputs": [],
   "source": [
    "soup = general(\"01\")"
   ]
  },
  {
   "cell_type": "code",
   "execution_count": 5,
   "metadata": {},
   "outputs": [],
   "source": [
    "def naming_column():\n",
    "    all = soup.select('table')[3].findAll('tr')\n",
    "\n",
    "    whi = all[1].get_text().split(' ')[1:4]\n",
    "    column_name= []\n",
    "    for i in range(len(all[0].findAll(\"th\"))):\n",
    "        if i <= 1:\n",
    "            column_name.append(all[0].findAll(\"th\")[i].text)\n",
    "        else:\n",
    "            for k in range(3):\n",
    "                column_name.append(all[0].findAll(\"th\")[i].text + whi[k])\n",
    "    return column_name"
   ]
  },
  {
   "cell_type": "code",
   "execution_count": 6,
   "metadata": {},
   "outputs": [],
   "source": [
    "column_name = naming_column()"
   ]
  },
  {
   "cell_type": "code",
   "execution_count": 7,
   "metadata": {},
   "outputs": [
    {
     "data": {
      "text/html": [
       "<div>\n",
       "<style scoped>\n",
       "    .dataframe tbody tr th:only-of-type {\n",
       "        vertical-align: middle;\n",
       "    }\n",
       "\n",
       "    .dataframe tbody tr th {\n",
       "        vertical-align: top;\n",
       "    }\n",
       "\n",
       "    .dataframe thead th {\n",
       "        text-align: right;\n",
       "    }\n",
       "</style>\n",
       "<table border=\"1\" class=\"dataframe\">\n",
       "  <thead>\n",
       "    <tr style=\"text-align: right;\">\n",
       "      <th></th>\n",
       "      <th>행정구역</th>\n",
       "      <th>생활밀접업종</th>\n",
       "      <th>2018년 1분기전체점포수</th>\n",
       "      <th>2018년 1분기프랜차이즈점포수</th>\n",
       "      <th>2018년 1분기일반점포수</th>\n",
       "      <th>2019년 1분기전체점포수</th>\n",
       "      <th>2019년 1분기프랜차이즈점포수</th>\n",
       "      <th>2019년 1분기일반점포수</th>\n",
       "      <th>2020년 1분기전체점포수</th>\n",
       "      <th>2020년 1분기프랜차이즈점포수</th>\n",
       "      <th>2020년 1분기일반점포수</th>\n",
       "    </tr>\n",
       "  </thead>\n",
       "  <tbody>\n",
       "    <tr>\n",
       "      <th>0</th>\n",
       "      <td>목3동</td>\n",
       "      <td>외식업/한식음식점</td>\n",
       "      <td>89</td>\n",
       "      <td>4</td>\n",
       "      <td>85</td>\n",
       "      <td>91</td>\n",
       "      <td>5</td>\n",
       "      <td>86</td>\n",
       "      <td>87</td>\n",
       "      <td>6</td>\n",
       "      <td>81</td>\n",
       "    </tr>\n",
       "  </tbody>\n",
       "</table>\n",
       "</div>"
      ],
      "text/plain": [
       "  행정구역     생활밀접업종 2018년 1분기전체점포수 2018년 1분기프랜차이즈점포수 2018년 1분기일반점포수  \\\n",
       "0  목3동  외식업/한식음식점             89                 4             85   \n",
       "\n",
       "  2019년 1분기전체점포수 2019년 1분기프랜차이즈점포수 2019년 1분기일반점포수 2020년 1분기전체점포수  \\\n",
       "0             91                 5             86             87   \n",
       "\n",
       "  2020년 1분기프랜차이즈점포수 2020년 1분기일반점포수  \n",
       "0                 6             81  "
      ]
     },
     "execution_count": 7,
     "metadata": {},
     "output_type": "execute_result"
    }
   ],
   "source": [
    "whole = pd.DataFrame(columns=column_name)\n",
    "for item in soup.select('tr.leaf'):\n",
    "    row_info = item.text.split(\" \")[1:]\n",
    "    row_info = [i.replace(\",\", \"\") for i in row_info]\n",
    "    results = row_info[2:]\n",
    "    results = list(map(int, results))\n",
    "    row_info = row_info[:2] + results\n",
    "    mid = pd.DataFrame([row_info], columns=column_name)\n",
    "    whole = whole.append(mid)\n",
    "whole.sample()"
   ]
  },
  {
   "cell_type": "code",
   "execution_count": 8,
   "metadata": {},
   "outputs": [],
   "source": [
    "for i in ([\"02\",\"03\",\"04\",\"05\",\"06\",\"10\"]):\n",
    "    soup = general(i)\n",
    "\n",
    "    data = pd.DataFrame(columns=column_name)\n",
    "    for item in soup.select('tr.leaf'):\n",
    "        row_info = item.text.split(\" \")[1:]\n",
    "        row_info = [i.replace(\",\", \"\") for i in row_info]\n",
    "        results = row_info[2:]\n",
    "        results = list(map(int, results))\n",
    "        row_info = row_info[:2] + results\n",
    "        mid = pd.DataFrame([row_info], columns=column_name)\n",
    "        data = data.append(mid)\n",
    "\n",
    "    data.sample()\n",
    "\n",
    "    whole = whole.append(data)"
   ]
  },
  {
   "cell_type": "code",
   "execution_count": 9,
   "metadata": {},
   "outputs": [
    {
     "data": {
      "text/html": [
       "<div>\n",
       "<style scoped>\n",
       "    .dataframe tbody tr th:only-of-type {\n",
       "        vertical-align: middle;\n",
       "    }\n",
       "\n",
       "    .dataframe tbody tr th {\n",
       "        vertical-align: top;\n",
       "    }\n",
       "\n",
       "    .dataframe thead th {\n",
       "        text-align: right;\n",
       "    }\n",
       "</style>\n",
       "<table border=\"1\" class=\"dataframe\">\n",
       "  <thead>\n",
       "    <tr style=\"text-align: right;\">\n",
       "      <th></th>\n",
       "      <th>행정구역</th>\n",
       "      <th>생활밀접업종</th>\n",
       "      <th>2018년 1분기전체점포수</th>\n",
       "      <th>2018년 1분기프랜차이즈점포수</th>\n",
       "      <th>2018년 1분기일반점포수</th>\n",
       "      <th>2019년 1분기전체점포수</th>\n",
       "      <th>2019년 1분기프랜차이즈점포수</th>\n",
       "      <th>2019년 1분기일반점포수</th>\n",
       "      <th>2020년 1분기전체점포수</th>\n",
       "      <th>2020년 1분기프랜차이즈점포수</th>\n",
       "      <th>2020년 1분기일반점포수</th>\n",
       "    </tr>\n",
       "  </thead>\n",
       "  <tbody>\n",
       "    <tr>\n",
       "      <th>0</th>\n",
       "      <td>청운효자동</td>\n",
       "      <td>외식업/한식음식점</td>\n",
       "      <td>82</td>\n",
       "      <td>3</td>\n",
       "      <td>79</td>\n",
       "      <td>75</td>\n",
       "      <td>2</td>\n",
       "      <td>73</td>\n",
       "      <td>74</td>\n",
       "      <td>1</td>\n",
       "      <td>73</td>\n",
       "    </tr>\n",
       "    <tr>\n",
       "      <th>0</th>\n",
       "      <td>사직동</td>\n",
       "      <td>외식업/한식음식점</td>\n",
       "      <td>393</td>\n",
       "      <td>34</td>\n",
       "      <td>359</td>\n",
       "      <td>395</td>\n",
       "      <td>30</td>\n",
       "      <td>365</td>\n",
       "      <td>393</td>\n",
       "      <td>30</td>\n",
       "      <td>363</td>\n",
       "    </tr>\n",
       "    <tr>\n",
       "      <th>0</th>\n",
       "      <td>삼청동</td>\n",
       "      <td>외식업/한식음식점</td>\n",
       "      <td>66</td>\n",
       "      <td>3</td>\n",
       "      <td>63</td>\n",
       "      <td>66</td>\n",
       "      <td>2</td>\n",
       "      <td>64</td>\n",
       "      <td>71</td>\n",
       "      <td>3</td>\n",
       "      <td>68</td>\n",
       "    </tr>\n",
       "    <tr>\n",
       "      <th>0</th>\n",
       "      <td>부암동</td>\n",
       "      <td>외식업/한식음식점</td>\n",
       "      <td>42</td>\n",
       "      <td>3</td>\n",
       "      <td>39</td>\n",
       "      <td>34</td>\n",
       "      <td>3</td>\n",
       "      <td>31</td>\n",
       "      <td>38</td>\n",
       "      <td>3</td>\n",
       "      <td>35</td>\n",
       "    </tr>\n",
       "    <tr>\n",
       "      <th>0</th>\n",
       "      <td>평창동</td>\n",
       "      <td>외식업/한식음식점</td>\n",
       "      <td>63</td>\n",
       "      <td>5</td>\n",
       "      <td>58</td>\n",
       "      <td>59</td>\n",
       "      <td>5</td>\n",
       "      <td>54</td>\n",
       "      <td>60</td>\n",
       "      <td>4</td>\n",
       "      <td>56</td>\n",
       "    </tr>\n",
       "    <tr>\n",
       "      <th>...</th>\n",
       "      <td>...</td>\n",
       "      <td>...</td>\n",
       "      <td>...</td>\n",
       "      <td>...</td>\n",
       "      <td>...</td>\n",
       "      <td>...</td>\n",
       "      <td>...</td>\n",
       "      <td>...</td>\n",
       "      <td>...</td>\n",
       "      <td>...</td>\n",
       "      <td>...</td>\n",
       "    </tr>\n",
       "    <tr>\n",
       "      <th>0</th>\n",
       "      <td>성내2동</td>\n",
       "      <td>외식업/커피-음료</td>\n",
       "      <td>47</td>\n",
       "      <td>7</td>\n",
       "      <td>40</td>\n",
       "      <td>57</td>\n",
       "      <td>9</td>\n",
       "      <td>48</td>\n",
       "      <td>56</td>\n",
       "      <td>10</td>\n",
       "      <td>46</td>\n",
       "    </tr>\n",
       "    <tr>\n",
       "      <th>0</th>\n",
       "      <td>성내3동</td>\n",
       "      <td>외식업/커피-음료</td>\n",
       "      <td>58</td>\n",
       "      <td>10</td>\n",
       "      <td>48</td>\n",
       "      <td>67</td>\n",
       "      <td>13</td>\n",
       "      <td>54</td>\n",
       "      <td>72</td>\n",
       "      <td>13</td>\n",
       "      <td>59</td>\n",
       "    </tr>\n",
       "    <tr>\n",
       "      <th>0</th>\n",
       "      <td>길동</td>\n",
       "      <td>외식업/커피-음료</td>\n",
       "      <td>70</td>\n",
       "      <td>20</td>\n",
       "      <td>50</td>\n",
       "      <td>70</td>\n",
       "      <td>17</td>\n",
       "      <td>53</td>\n",
       "      <td>78</td>\n",
       "      <td>23</td>\n",
       "      <td>55</td>\n",
       "    </tr>\n",
       "    <tr>\n",
       "      <th>0</th>\n",
       "      <td>둔촌1동</td>\n",
       "      <td>외식업/커피-음료</td>\n",
       "      <td>0</td>\n",
       "      <td>0</td>\n",
       "      <td>0</td>\n",
       "      <td>0</td>\n",
       "      <td>0</td>\n",
       "      <td>0</td>\n",
       "      <td>1</td>\n",
       "      <td>0</td>\n",
       "      <td>1</td>\n",
       "    </tr>\n",
       "    <tr>\n",
       "      <th>0</th>\n",
       "      <td>둔촌2동</td>\n",
       "      <td>외식업/커피-음료</td>\n",
       "      <td>36</td>\n",
       "      <td>8</td>\n",
       "      <td>28</td>\n",
       "      <td>41</td>\n",
       "      <td>7</td>\n",
       "      <td>34</td>\n",
       "      <td>43</td>\n",
       "      <td>7</td>\n",
       "      <td>36</td>\n",
       "    </tr>\n",
       "  </tbody>\n",
       "</table>\n",
       "<p>2968 rows × 11 columns</p>\n",
       "</div>"
      ],
      "text/plain": [
       "     행정구역     생활밀접업종 2018년 1분기전체점포수 2018년 1분기프랜차이즈점포수 2018년 1분기일반점포수  \\\n",
       "0   청운효자동  외식업/한식음식점             82                 3             79   \n",
       "0     사직동  외식업/한식음식점            393                34            359   \n",
       "0     삼청동  외식업/한식음식점             66                 3             63   \n",
       "0     부암동  외식업/한식음식점             42                 3             39   \n",
       "0     평창동  외식업/한식음식점             63                 5             58   \n",
       "..    ...        ...            ...               ...            ...   \n",
       "0    성내2동  외식업/커피-음료             47                 7             40   \n",
       "0    성내3동  외식업/커피-음료             58                10             48   \n",
       "0      길동  외식업/커피-음료             70                20             50   \n",
       "0    둔촌1동  외식업/커피-음료              0                 0              0   \n",
       "0    둔촌2동  외식업/커피-음료             36                 8             28   \n",
       "\n",
       "   2019년 1분기전체점포수 2019년 1분기프랜차이즈점포수 2019년 1분기일반점포수 2020년 1분기전체점포수  \\\n",
       "0              75                 2             73             74   \n",
       "0             395                30            365            393   \n",
       "0              66                 2             64             71   \n",
       "0              34                 3             31             38   \n",
       "0              59                 5             54             60   \n",
       "..            ...               ...            ...            ...   \n",
       "0              57                 9             48             56   \n",
       "0              67                13             54             72   \n",
       "0              70                17             53             78   \n",
       "0               0                 0              0              1   \n",
       "0              41                 7             34             43   \n",
       "\n",
       "   2020년 1분기프랜차이즈점포수 2020년 1분기일반점포수  \n",
       "0                  1             73  \n",
       "0                 30            363  \n",
       "0                  3             68  \n",
       "0                  3             35  \n",
       "0                  4             56  \n",
       "..               ...            ...  \n",
       "0                 10             46  \n",
       "0                 13             59  \n",
       "0                 23             55  \n",
       "0                  0              1  \n",
       "0                  7             36  \n",
       "\n",
       "[2968 rows x 11 columns]"
      ]
     },
     "execution_count": 9,
     "metadata": {},
     "output_type": "execute_result"
    }
   ],
   "source": [
    "whole"
   ]
  },
  {
   "cell_type": "code",
   "execution_count": 10,
   "metadata": {},
   "outputs": [],
   "source": [
    "ordered1 = whole.groupby('행정구역').sum()"
   ]
  },
  {
   "cell_type": "code",
   "execution_count": 11,
   "metadata": {},
   "outputs": [],
   "source": [
    "ordered1.to_csv('raw/자동화_점포수_1분기.csv')"
   ]
  },
  {
   "cell_type": "markdown",
   "metadata": {},
   "source": [
    "# 2분기 긁어오기"
   ]
  },
  {
   "cell_type": "code",
   "execution_count": 12,
   "metadata": {},
   "outputs": [],
   "source": [
    "def general(num):\n",
    "    driver = webdriver.Chrome('./chromedriver')\n",
    "    driver.get(\"https://golmok.seoul.go.kr/regionAreaAnalysis.do\")\n",
    "    driver.find_element_by_xpath('//*[@id=\"loginPop\"]/div/button[1]').click()\n",
    "    driver.find_element_by_xpath(\"//option[@value='2']\").click()\n",
    "    driver.find_element_by_xpath(\"//option[@value='CS100000']\").click()\n",
    "    driver.implicitly_wait(3)\n",
    "    driver.find_element_by_xpath(f\"//option[@value='CS1000{num}']\").click()\n",
    "    driver.find_element_by_xpath(\"//option[@value='store']\").click()\n",
    "    driver.find_element_by_xpath('//*[@id=\"presentSearch\"]').click()\n",
    "    time.sleep(10)\n",
    "    html = driver.page_source\n",
    "    soup = BeautifulSoup(html, 'html.parser')\n",
    "    driver.close()\n",
    "    return soup"
   ]
  },
  {
   "cell_type": "code",
   "execution_count": null,
   "metadata": {},
   "outputs": [],
   "source": [
    "soup = general(\"01\")"
   ]
  },
  {
   "cell_type": "code",
   "execution_count": null,
   "metadata": {},
   "outputs": [],
   "source": [
    "def naming_column():\n",
    "    all = soup.select('table')[3].findAll('tr')\n",
    "\n",
    "    whi = all[1].get_text().split(' ')[1:4]\n",
    "    column_name= []\n",
    "    for i in range(len(all[0].findAll(\"th\"))):\n",
    "        if i <= 1:\n",
    "            column_name.append(all[0].findAll(\"th\")[i].text)\n",
    "        else:\n",
    "            for k in range(3):\n",
    "                column_name.append(all[0].findAll(\"th\")[i].text + whi[k])\n",
    "    return column_name"
   ]
  },
  {
   "cell_type": "code",
   "execution_count": null,
   "metadata": {},
   "outputs": [],
   "source": [
    "column_name = naming_column()"
   ]
  },
  {
   "cell_type": "code",
   "execution_count": null,
   "metadata": {},
   "outputs": [],
   "source": [
    "whole = pd.DataFrame(columns=column_name)\n",
    "for item in soup.select('tr.leaf'):\n",
    "    row_info = item.text.split(\" \")[1:]\n",
    "    row_info = [i.replace(\",\", \"\") for i in row_info]\n",
    "    results = row_info[2:]\n",
    "    results = list(map(int, results))\n",
    "    row_info = row_info[:2] + results\n",
    "    mid = pd.DataFrame([row_info], columns=column_name)\n",
    "    whole = whole.append(mid)\n",
    "whole.sample()"
   ]
  },
  {
   "cell_type": "code",
   "execution_count": null,
   "metadata": {},
   "outputs": [],
   "source": [
    "for i in ([\"02\",\"03\",\"04\",\"05\",\"06\",\"10\"]):\n",
    "    soup = general(i)\n",
    "\n",
    "    data = pd.DataFrame(columns=column_name)\n",
    "    for item in soup.select('tr.leaf'):\n",
    "        row_info = item.text.split(\" \")[1:]\n",
    "        row_info = [i.replace(\",\", \"\") for i in row_info]\n",
    "        results = row_info[2:]\n",
    "        results = list(map(int, results))\n",
    "        row_info = row_info[:2] + results\n",
    "        mid = pd.DataFrame([row_info], columns=column_name)\n",
    "        data = data.append(mid)\n",
    "\n",
    "    data.sample()\n",
    "\n",
    "    whole = whole.append(data)"
   ]
  },
  {
   "cell_type": "code",
   "execution_count": null,
   "metadata": {},
   "outputs": [],
   "source": [
    "ordered2 = whole.groupby('행정구역').sum()"
   ]
  },
  {
   "cell_type": "code",
   "execution_count": null,
   "metadata": {},
   "outputs": [],
   "source": [
    "ordered2.to_csv('raw/자동화_점포수_2분기.csv')"
   ]
  },
  {
   "cell_type": "code",
   "execution_count": null,
   "metadata": {},
   "outputs": [],
   "source": []
  },
  {
   "cell_type": "code",
   "execution_count": null,
   "metadata": {},
   "outputs": [],
   "source": []
  },
  {
   "cell_type": "code",
   "execution_count": null,
   "metadata": {},
   "outputs": [],
   "source": [
    "stores = ordered1.merge(ordered2, how = \"left\")\n",
    "stores.to_csv('raw/자동화_점포수분기총.csv')"
   ]
  },
  {
   "cell_type": "code",
   "execution_count": null,
   "metadata": {},
   "outputs": [],
   "source": []
  },
  {
   "cell_type": "code",
   "execution_count": null,
   "metadata": {},
   "outputs": [],
   "source": []
  },
  {
   "cell_type": "code",
   "execution_count": null,
   "metadata": {},
   "outputs": [],
   "source": []
  },
  {
   "cell_type": "code",
   "execution_count": null,
   "metadata": {},
   "outputs": [],
   "source": []
  },
  {
   "cell_type": "code",
   "execution_count": null,
   "metadata": {},
   "outputs": [],
   "source": []
  },
  {
   "cell_type": "code",
   "execution_count": null,
   "metadata": {},
   "outputs": [],
   "source": []
  },
  {
   "cell_type": "code",
   "execution_count": null,
   "metadata": {},
   "outputs": [],
   "source": []
  },
  {
   "cell_type": "code",
   "execution_count": null,
   "metadata": {},
   "outputs": [],
   "source": []
  },
  {
   "cell_type": "markdown",
   "metadata": {},
   "source": [
    "# SAPJIL (don't look here)"
   ]
  },
  {
   "cell_type": "code",
   "execution_count": null,
   "metadata": {},
   "outputs": [],
   "source": [
    "def general():\n",
    "    driver = webdriver.Chrome('./chromedriver')\n",
    "    driver.get(\"https://golmok.seoul.go.kr/regionAreaAnalysis.do\")\n",
    "    driver.find_element_by_xpath('//*[@id=\"loginPop\"]/div/button[1]').click()\n",
    "    driver.find_element_by_xpath(\"//option[@value='1']\").click()\n",
    "    driver.find_element_by_xpath(\"//option[@value='CS100000']\").click()"
   ]
  },
  {
   "cell_type": "code",
   "execution_count": null,
   "metadata": {},
   "outputs": [],
   "source": [
    "# 1,2,3,4,5,6,10 가져오기\n",
    "def store(num):\n",
    "    driver.find_element_by_xpath(\"//option[@value=f'CS10000{num}']\").click()\n",
    "    driver.find_element_by_xpath(\"//option[@value='store']\").click()\n",
    "    driver.find_element_by_xpath('//*[@id=\"presentSearch\"]').click()\n",
    "    time.sleep(10)"
   ]
  },
  {
   "cell_type": "code",
   "execution_count": null,
   "metadata": {},
   "outputs": [],
   "source": [
    "html = driver.page_source\n",
    "soup = BeautifulSoup(html, 'html.parser')"
   ]
  },
  {
   "cell_type": "code",
   "execution_count": null,
   "metadata": {},
   "outputs": [],
   "source": [
    "all = soup.select('table')[3].findAll('tr')\n",
    "\n",
    "whi = all[1].get_text().split(' ')[1:4]\n",
    "column_name= []\n",
    "for i in range(len(all[0].findAll(\"th\"))):\n",
    "    if i <= 1:\n",
    "        column_name.append(all[0].findAll(\"th\")[i].text)\n",
    "    else:\n",
    "        for k in range(3):\n",
    "            column_name.append(all[0].findAll(\"th\")[i].text + whi[k])\n"
   ]
  },
  {
   "cell_type": "code",
   "execution_count": null,
   "metadata": {},
   "outputs": [],
   "source": [
    "korea = pd.DataFrame(columns=column_name)\n",
    "for item in soup.select('tr.leaf'):\n",
    "    row_info = item.text.split(\" \")[1:]\n",
    "    row_info = [i.replace(\",\", \"\") for i in row_info]\n",
    "    results = row_info[2:]\n",
    "    results = list(map(int, results))\n",
    "    row_info = row_info[:2] + results\n",
    "    mid = pd.DataFrame([row_info], columns=column_name)\n",
    "    korea = korea.append(mid)"
   ]
  },
  {
   "cell_type": "code",
   "execution_count": null,
   "metadata": {},
   "outputs": [],
   "source": [
    "korea"
   ]
  },
  {
   "cell_type": "code",
   "execution_count": null,
   "metadata": {},
   "outputs": [],
   "source": [
    "# 1,2,3,4,5,6,10 가져오기\n",
    "driver.find_element_by_xpath(\"//option[@value='CS100002']\").click()\n",
    "driver.find_element_by_xpath(\"//option[@value='store']\").click()\n",
    "driver.find_element_by_xpath('//*[@id=\"presentSearch\"]').click()\n",
    "\n",
    "time.sleep(10)\n",
    "\n",
    "html = driver.page_source\n",
    "soup = BeautifulSoup(html, 'html.parser')"
   ]
  },
  {
   "cell_type": "code",
   "execution_count": null,
   "metadata": {},
   "outputs": [],
   "source": [
    "china = pd.DataFrame(columns=column_name)\n",
    "for item in soup.select('tr.leaf'):\n",
    "    row_info = item.text.split(\" \")[1:]\n",
    "    row_info = [i.replace(\",\", \"\") for i in row_info]\n",
    "    results = row_info[2:]\n",
    "    results = list(map(int, results))\n",
    "    row_info = row_info[:2] + results\n",
    "    mid = pd.DataFrame([row_info], columns=column_name)\n",
    "    china = china.append(mid)"
   ]
  },
  {
   "cell_type": "code",
   "execution_count": null,
   "metadata": {},
   "outputs": [],
   "source": [
    "kochin = korea.append(china)"
   ]
  },
  {
   "cell_type": "code",
   "execution_count": null,
   "metadata": {},
   "outputs": [],
   "source": [
    "kochin.query('행정구역 == \"청운효자동\"')"
   ]
  },
  {
   "cell_type": "code",
   "execution_count": null,
   "metadata": {},
   "outputs": [],
   "source": [
    "kochin.groupby('행정구역').sum()"
   ]
  },
  {
   "cell_type": "code",
   "execution_count": null,
   "metadata": {},
   "outputs": [],
   "source": [
    "whole = pd.DataFrame(columns=column_name)"
   ]
  },
  {
   "cell_type": "code",
   "execution_count": null,
   "metadata": {},
   "outputs": [],
   "source": [
    "whole"
   ]
  },
  {
   "cell_type": "code",
   "execution_count": null,
   "metadata": {},
   "outputs": [],
   "source": [
    "for i in range(2:11):\n",
    "    whole.iloc[:,i] = "
   ]
  },
  {
   "cell_type": "code",
   "execution_count": null,
   "metadata": {},
   "outputs": [],
   "source": [
    "kochin"
   ]
  },
  {
   "cell_type": "code",
   "execution_count": null,
   "metadata": {},
   "outputs": [],
   "source": []
  }
 ],
 "metadata": {
  "kernelspec": {
   "display_name": "Python 3",
   "language": "python",
   "name": "python3"
  },
  "language_info": {
   "codemirror_mode": {
    "name": "ipython",
    "version": 3
   },
   "file_extension": ".py",
   "mimetype": "text/x-python",
   "name": "python",
   "nbconvert_exporter": "python",
   "pygments_lexer": "ipython3",
   "version": "3.7.4"
  }
 },
 "nbformat": 4,
 "nbformat_minor": 2
}
