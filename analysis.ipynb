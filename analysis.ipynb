{
 "cells": [
  {
   "cell_type": "code",
   "execution_count": 45,
   "metadata": {},
   "outputs": [],
   "source": [
    "import pandas as pd\n",
    "import numpy as np"
   ]
  },
  {
   "cell_type": "code",
   "execution_count": 46,
   "metadata": {},
   "outputs": [],
   "source": [
    "# SELECT BLCK_CD, TS_YMD, SUM(AMT_CORR)\n",
    "# FROM TB_SHCARD_LOCAL_BLCK_DAY_TIME\n",
    "# WHERE SB_UPJONG_CD IN ('SB001','SB002','SB003','SB004','SB005','SB006','SB007')\n",
    "# GROUP BY BLCK_CD, TS_YMD\n",
    "\n",
    "#한식/ 일식 / 양식 / 중식 / 제과점 / 커피 / 패스트푸드"
   ]
  },
  {
   "cell_type": "code",
   "execution_count": 47,
   "metadata": {},
   "outputs": [],
   "source": [
    "all_sales = pd.read_csv('all_sales.csv')"
   ]
  },
  {
   "cell_type": "code",
   "execution_count": 48,
   "metadata": {},
   "outputs": [],
   "source": [
    "# BLCK_CD가 없는 부분은 버림 (17개 행) + 19년부터\n",
    "sales1920 = all_sales.query('TS_YMD > 20181231').dropna()"
   ]
  },
  {
   "cell_type": "code",
   "execution_count": 49,
   "metadata": {},
   "outputs": [
    {
     "data": {
      "text/plain": [
       "BLCK_CD          0\n",
       "TS_YMD           0\n",
       "SUM(AMT_CORR)    0\n",
       "dtype: int64"
      ]
     },
     "execution_count": 49,
     "metadata": {},
     "output_type": "execute_result"
    }
   ],
   "source": [
    "sales1920.isna().sum()"
   ]
  },
  {
   "cell_type": "markdown",
   "metadata": {},
   "source": [
    "# 매출 데이터에 동 붙이고, 동별 합계"
   ]
  },
  {
   "cell_type": "code",
   "execution_count": 53,
   "metadata": {},
   "outputs": [],
   "source": [
    "code = pd.read_csv('TBGIS_BLCK_RELM_INFO.csv', encoding='cp949')\n",
    "code = code.iloc[:,:2]\n",
    "code.columns = [\"블록코드\", \"동\"]\n",
    "code[\"동\"] = code[\"동\"].map(lambda x : x.split(\"-\")[0])"
   ]
  },
  {
   "cell_type": "code",
   "execution_count": 55,
   "metadata": {},
   "outputs": [],
   "source": [
    "living = pd.read_csv('생활인구수+점포수.csv', encoding='cp949', index_col=[0])\n",
    "living['동'] = living['동'].apply(lambda x: x.replace(\"제\", \"\"))\n",
    "living['동'] = living['동'].apply(lambda x: x.replace(\"홍1동\", \"홍제1동\"))\n",
    "living['동'] = living['동'].apply(lambda x: x.replace(\"홍2동\", \"홍제2동\"))\n",
    "living['동'] = living['동'].apply(lambda x: x.replace(\"홍3동\", \"홍제3동\"))\n",
    "living['동'] = living['동'].apply(lambda x: x.replace(\"기동\", \"제기동\"))\n",
    "living['동'] = living['동'].apply(lambda x: x.replace(\"회제기동\", \"회기동\"))"
   ]
  },
  {
   "cell_type": "code",
   "execution_count": 56,
   "metadata": {},
   "outputs": [],
   "source": [
    "def nans(df):\n",
    "    return df[df.isnull().any(axis=1)]"
   ]
  },
  {
   "cell_type": "code",
   "execution_count": 57,
   "metadata": {},
   "outputs": [
    {
     "data": {
      "text/html": [
       "<div>\n",
       "<style scoped>\n",
       "    .dataframe tbody tr th:only-of-type {\n",
       "        vertical-align: middle;\n",
       "    }\n",
       "\n",
       "    .dataframe tbody tr th {\n",
       "        vertical-align: top;\n",
       "    }\n",
       "\n",
       "    .dataframe thead th {\n",
       "        text-align: right;\n",
       "    }\n",
       "</style>\n",
       "<table border=\"1\" class=\"dataframe\">\n",
       "  <thead>\n",
       "    <tr style=\"text-align: right;\">\n",
       "      <th></th>\n",
       "      <th>동</th>\n",
       "    </tr>\n",
       "  </thead>\n",
       "  <tbody>\n",
       "  </tbody>\n",
       "</table>\n",
       "</div>"
      ],
      "text/plain": [
       "Empty DataFrame\n",
       "Columns: [동]\n",
       "Index: []"
      ]
     },
     "execution_count": 57,
     "metadata": {},
     "output_type": "execute_result"
    }
   ],
   "source": [
    "#code 에 있는 동이랑 living에 있는 동이랑차이 없는지\n",
    "comp1 = pd.DataFrame(code['동'])\n",
    "comp2 = pd.DataFrame(living['동'].unique(), columns = [\"동\"])\n",
    "comp = comp1.merge(comp2, left_on = \"동\",right_on = \"동\", how=\"outer\" )\n",
    "nans(comp)"
   ]
  },
  {
   "cell_type": "code",
   "execution_count": 58,
   "metadata": {},
   "outputs": [],
   "source": [
    "sales1920_dong = sales1920.merge(code, left_on=\"BLCK_CD\", right_on=\"블록코드\", how=\"left\")\n",
    "\n",
    "sales1920_dong.drop([\"BLCK_CD\",\"블록코드\"], axis=1, inplace=True)\n",
    "\n",
    "daily_dong_sales1920 = sales1920_dong.groupby([\"TS_YMD\", \"동\"]).sum()\n",
    "\n",
    "daily_dong_sales1920.columns = [\"동_매출합계\"]"
   ]
  },
  {
   "cell_type": "code",
   "execution_count": 59,
   "metadata": {},
   "outputs": [],
   "source": [
    "daily_dong_sales1920.to_csv('동_매출_1920.csv')\n",
    "daily_dong_sales1920 = pd.read_csv('동_매출_1920.csv')"
   ]
  },
  {
   "cell_type": "code",
   "execution_count": null,
   "metadata": {},
   "outputs": [],
   "source": []
  },
  {
   "cell_type": "markdown",
   "metadata": {},
   "source": [
    "# 매출 19년과 20년으로 나누기"
   ]
  },
  {
   "cell_type": "code",
   "execution_count": 60,
   "metadata": {},
   "outputs": [],
   "source": [
    "daily_dong_sales1920 = pd.read_csv('동_매출_1920.csv')\n",
    "\n",
    "dds19=daily_dong_sales1920.query(\"TS_YMD <= 20190831\")\n",
    "\n",
    "dds20=daily_dong_sales1920.query(\"TS_YMD>= 20200101\")"
   ]
  },
  {
   "cell_type": "markdown",
   "metadata": {},
   "source": [
    "# Paired T -Test"
   ]
  },
  {
   "cell_type": "code",
   "execution_count": null,
   "metadata": {},
   "outputs": [],
   "source": []
  },
  {
   "cell_type": "code",
   "execution_count": 61,
   "metadata": {},
   "outputs": [],
   "source": [
    "import pandas as pd\n",
    "import numpy as np\n",
    "import matplotlib.pyplot as plt\n",
    "import seaborn as sns"
   ]
  },
  {
   "cell_type": "code",
   "execution_count": 62,
   "metadata": {},
   "outputs": [
    {
     "name": "stderr",
     "output_type": "stream",
     "text": [
      "C:\\ProgramData\\Anaconda3\\lib\\site-packages\\ipykernel_launcher.py:6: SettingWithCopyWarning: \n",
      "A value is trying to be set on a copy of a slice from a DataFrame.\n",
      "Try using .loc[row_indexer,col_indexer] = value instead\n",
      "\n",
      "See the caveats in the documentation: http://pandas.pydata.org/pandas-docs/stable/indexing.html#indexing-view-versus-copy\n",
      "  \n",
      "C:\\ProgramData\\Anaconda3\\lib\\site-packages\\ipykernel_launcher.py:7: SettingWithCopyWarning: \n",
      "A value is trying to be set on a copy of a slice from a DataFrame.\n",
      "Try using .loc[row_indexer,col_indexer] = value instead\n",
      "\n",
      "See the caveats in the documentation: http://pandas.pydata.org/pandas-docs/stable/indexing.html#indexing-view-versus-copy\n",
      "  import sys\n"
     ]
    }
   ],
   "source": [
    "before = dds19[['동_매출합계']]\n",
    "after = dds20[['동_매출합계']]\n",
    "before.columns = ['dong_sales']\n",
    "after.columns = ['dong_sales']\n",
    "\n",
    "before['when'] = \"pre_covid\"\n",
    "after[\"when\"] = \"covid\"\n",
    "data = before.append(after)\n",
    "# 단위: 천만원\n",
    "data['dong_sales'] =data['dong_sales'].apply(lambda x : x/10000000)"
   ]
  },
  {
   "cell_type": "code",
   "execution_count": 63,
   "metadata": {},
   "outputs": [
    {
     "data": {
      "image/png": "[encoded data removed]",
      "text/plain": [
       "<Figure size 432x432 with 1 Axes>"
      ]
     },
     "metadata": {},
     "output_type": "display_data"
    }
   ],
   "source": [
    "# showfliers false로 아웃라이어 배제하고 그려봄\n",
    "sns.set_style(\"whitegrid\")\n",
    "plt.figure(figsize=(6,6))\n",
    "sns.boxplot(x=\"when\", y='dong_sales', data= data, showfliers=False)\n",
    "plt.title(\"Box Plot\")\n",
    "plt.show()"
   ]
  },
  {
   "cell_type": "markdown",
   "metadata": {},
   "source": [
    "## T-Test\n"
   ]
  },
  {
   "cell_type": "markdown",
   "metadata": {},
   "source": []
  },
  {
   "cell_type": "code",
   "execution_count": 64,
   "metadata": {},
   "outputs": [],
   "source": [
    "# 19년 1-8월 일별 평균 매출\n",
    "dds19_ave = dds19.drop(\"TS_YMD\", axis=1).groupby('동').mean()\n",
    "# 20년 1-8월 일별 평균 매출\n",
    "dds20_ave = dds20.drop(\"TS_YMD\", axis=1).groupby('동').mean()\n",
    "\n",
    "before = dds19_ave[['동_매출합계']]\n",
    "after = dds20_ave[['동_매출합계']]\n",
    "\n",
    "data = before.merge(after, on = \"동\", how=\"left\")\n",
    "data.columns = ['동_매출합계_2019','동_매출합계_2020' ]\n",
    "\n",
    "data.to_csv('동_매출합계,20192020.csv')\n",
    "data = pd.read_csv('동_매출합계,20192020.csv')\n",
    "\n",
    "a = data.iloc[:,1]\n",
    "b = data.iloc[:,2]\n"
   ]
  },
  {
   "cell_type": "code",
   "execution_count": 65,
   "metadata": {},
   "outputs": [],
   "source": [
    "import scipy.stats\n",
    "import numpy as np"
   ]
  },
  {
   "cell_type": "code",
   "execution_count": 66,
   "metadata": {},
   "outputs": [],
   "source": [
    "m =scipy.stats.ttest_rel(a,b)\n",
    "\n",
    "t = m.statistic\n",
    "df = len(a) + len(b) -2\n",
    "cohend = abs(t)/np.sqrt(df)\n",
    "\n",
    "t2 = t**2\n",
    "pearr = np.sqrt(t2/(t2+df))"
   ]
  },
  {
   "cell_type": "code",
   "execution_count": 68,
   "metadata": {},
   "outputs": [
    {
     "data": {
      "text/plain": [
       "Ttest_relResult(statistic=8.16960842375462, pvalue=3.6319321057928055e-15)"
      ]
     },
     "execution_count": 68,
     "metadata": {},
     "output_type": "execute_result"
    }
   ],
   "source": [
    "scipy.stats.ttest_rel(a,b)"
   ]
  },
  {
   "cell_type": "code",
   "execution_count": 67,
   "metadata": {},
   "outputs": [
    {
     "name": "stdout",
     "output_type": "stream",
     "text": [
      "2019년 지역별 일별 매출 평균 141136678.74791312 | 2020년 지역별 일별 매출 평균 125666223.18095952\n",
      "----------------------------------------------------------------------------------------------------\n",
      "Paired T Test의 결과는 pvalue 값이 3.6319321057928055e-15\n",
      "2020년 매출 평균이 통계적으로 유의미하게 낮음을 확인할 수 있다\n",
      "효과크기는 낮은 수준으로, Cohen's d = 0.281209519040364 | r = 0.2707094638665446\n"
     ]
    }
   ],
   "source": [
    "print(f\"2019년 지역별 일별 매출 평균 {a.mean()} | 2020년 지역별 일별 매출 평균 {b.mean()}\")\n",
    "print('-'*100)\n",
    "print(f\"Paired T Test의 결과는 pvalue 값이 {m.pvalue}\")\n",
    "print(f\"2020년 매출 평균이 통계적으로 유의미하게 낮음을 확인할 수 있다\")\n",
    "print(f\"효과크기는 낮은 수준으로, Cohen's d = {cohend} | r = {pearr}\")"
   ]
  },
  {
   "cell_type": "code",
   "execution_count": 410,
   "metadata": {},
   "outputs": [],
   "source": []
  },
  {
   "cell_type": "markdown",
   "metadata": {},
   "source": [
    "### 데이터 정규성 검정 pvalue가 0.05보다 커야"
   ]
  },
  {
   "cell_type": "code",
   "execution_count": 360,
   "metadata": {},
   "outputs": [
    {
     "data": {
      "text/plain": [
       "(0.8837820291519165, 2.4935232179596686e-17)"
      ]
     },
     "execution_count": 360,
     "metadata": {},
     "output_type": "execute_result"
    }
   ],
   "source": [
    "# 데이터 정규성 검정 pvalue가 0.05보다 커야하는데..\n",
    "from scipy.stats import shapiro\n",
    "\n",
    "before = dds19_ave[['동_매출합계']]\n",
    "after = dds20_ave[['동_매출합계']]\n",
    "data = before.merge(after, on = \"동\", how=\"left\")\n",
    "data.columns = ['동_매출합계_2019','동_매출합계_2020' ]\n",
    "data['동_매출합계_2020/2019'] = (data['동_매출합계_2020'] - data['동_매출합계_2019'])/data['동_매출합계_2019']*100\n",
    "\n",
    "shapiro(data['동_매출합계_2020/2019'])"
   ]
  },
  {
   "cell_type": "code",
   "execution_count": null,
   "metadata": {},
   "outputs": [],
   "source": []
  },
  {
   "cell_type": "code",
   "execution_count": 370,
   "metadata": {},
   "outputs": [],
   "source": [
    "# data['동_매출합계_2020/2019']\n",
    "\n",
    "data_comp = data[['동_매출합계_2020/2019']]\n",
    "data_comp.columns=['동_매출합계_비']"
   ]
  },
  {
   "cell_type": "code",
   "execution_count": 440,
   "metadata": {},
   "outputs": [
    {
     "name": "stdout",
     "output_type": "stream",
     "text": [
      "동_매출합계_비    350\n",
      "dtype: int64\n"
     ]
    }
   ],
   "source": [
    "print(data_comp.query(\"동_매출합계_비 < 0\").count())"
   ]
  },
  {
   "cell_type": "code",
   "execution_count": 377,
   "metadata": {},
   "outputs": [
    {
     "data": {
      "text/plain": [
       "동_매출합계_비    73\n",
       "dtype: int64"
      ]
     },
     "execution_count": 377,
     "metadata": {},
     "output_type": "execute_result"
    }
   ],
   "source": [
    "data_comp.query(\"동_매출합계_비 > 0\").count()"
   ]
  },
  {
   "cell_type": "code",
   "execution_count": 381,
   "metadata": {},
   "outputs": [
    {
     "data": {
      "text/plain": [
       "Index(['가락1동', '가양1동', '가회동', '개포2동', '고덕2동', '구로1동', '구의1동', '구의2동', '금호4가동',\n",
       "       '내곡동', '답십리2동', '도봉1동', '독산1동', '동화동', '등촌1동', '마천1동', '망원1동', '망원2동',\n",
       "       '면목3.8동', '면목4동', '면목본동', '목2동', '목3동', '문래동', '문정2동', '발산1동', '방배본동',\n",
       "       '방학3동', '북가좌2동', '삼각산동', '상도4동', '상일동', '성수1가1동', '성수1가2동', '성수2가1동',\n",
       "       '성수2가3동', '성현동', '세곡동', '송정동', '송파1동', '수유1동', '수유2동', '시흥3동', '신길3동',\n",
       "       '신길7동', '신당동', '신사1동', '신월1동', '신월6동', '쌍문3동', '암사1동', '양평2동', '왕십리2동',\n",
       "       '용문동', '우이동', '월계3동', '위례동', '응암2동', '응암3동', '이촌2동', '자양2동', '장위1동',\n",
       "       '장지동', '중계4동', '중곡1동', '중곡4동', '중화1동', '진관동', '창2동', '창4동', '홍제2동',\n",
       "       '화곡본동', '휘경2동'],\n",
       "      dtype='object', name='동')"
      ]
     },
     "execution_count": 381,
     "metadata": {},
     "output_type": "execute_result"
    }
   ],
   "source": [
    "data_comp.query(\"동_매출합계_비 > 0\").index"
   ]
  },
  {
   "cell_type": "code",
   "execution_count": 382,
   "metadata": {},
   "outputs": [
    {
     "data": {
      "text/plain": [
       "Index(['가락2동', '가락본동', '가리봉동', '가산동', '가양2동', '가양3동', '갈현1동', '갈현2동', '강일동',\n",
       "       '개봉1동',\n",
       "       ...\n",
       "       '화곡6동', '화곡8동', '화양동', '황학동', '회기동', '회현동', '효창동', '후암동', '휘경1동',\n",
       "       '흑석동'],\n",
       "      dtype='object', name='동', length=350)"
      ]
     },
     "execution_count": 382,
     "metadata": {},
     "output_type": "execute_result"
    }
   ],
   "source": [
    "data_comp.query(\"동_매출합계_비 < 0\").index"
   ]
  },
  {
   "cell_type": "code",
   "execution_count": 385,
   "metadata": {},
   "outputs": [
    {
     "data": {
      "text/plain": [
       "Index(['가락1동', '가락2동', '가락본동', '가리봉동', '가산동', '가양1동', '가양2동', '가양3동', '가회동',\n",
       "       '갈현1동',\n",
       "       ...\n",
       "       '화곡본동', '화양동', '황학동', '회기동', '회현동', '효창동', '후암동', '휘경1동', '휘경2동',\n",
       "       '흑석동'],\n",
       "      dtype='object', name='동', length=423)"
      ]
     },
     "execution_count": 385,
     "metadata": {},
     "output_type": "execute_result"
    }
   ],
   "source": [
    "data_comp.index"
   ]
  },
  {
   "cell_type": "code",
   "execution_count": null,
   "metadata": {},
   "outputs": [],
   "source": []
  },
  {
   "cell_type": "code",
   "execution_count": null,
   "metadata": {},
   "outputs": [],
   "source": []
  },
  {
   "cell_type": "code",
   "execution_count": null,
   "metadata": {},
   "outputs": [],
   "source": []
  },
  {
   "cell_type": "markdown",
   "metadata": {},
   "source": [
    "# 핫비핫 선정 - 2019 매출 기준"
   ]
  },
  {
   "cell_type": "code",
   "execution_count": null,
   "metadata": {},
   "outputs": [],
   "source": []
  },
  {
   "cell_type": "code",
   "execution_count": 69,
   "metadata": {},
   "outputs": [],
   "source": [
    "daily_dong_sales1920 = pd.read_csv('동_매출_1920.csv')\n",
    "\n",
    "dds19=daily_dong_sales1920.query(\"TS_YMD <= 20190831\")\n",
    "\n",
    "dds20=daily_dong_sales1920.query(\"TS_YMD>= 20200101\")"
   ]
  },
  {
   "cell_type": "code",
   "execution_count": 70,
   "metadata": {},
   "outputs": [],
   "source": [
    "# 평균 일 매출로 상하위 10개\n",
    "\n",
    "dds19 = dds19.groupby(\"동\")[\"동_매출합계\"].mean().to_frame().sort_values(by=\"동_매출합계\", ascending=False).reset_index()"
   ]
  },
  {
   "cell_type": "code",
   "execution_count": 71,
   "metadata": {},
   "outputs": [],
   "source": [
    "# dds19[:10]\n",
    "# dds19[-10:]"
   ]
  },
  {
   "cell_type": "code",
   "execution_count": null,
   "metadata": {},
   "outputs": [],
   "source": []
  },
  {
   "cell_type": "code",
   "execution_count": 72,
   "metadata": {},
   "outputs": [
    {
     "name": "stdout",
     "output_type": "stream",
     "text": [
      "평균 일 매출이 상위 10개 동은 :['역삼1동', '여의동', '종로1.2.3.4가동', '서교동', '명동', '서초3동', '청담동', '압구정동', '가양1동', '논현2동']\n",
      "평균 일 매출이 하위 10개 동은 :['삼성동', '시흥2동', '신길4동', '응암2동', '돈암2동', '창신3동', '이촌2동', '잠실7동', '개포1동', '둔촌1동']\n"
     ]
    }
   ],
   "source": [
    "a = list(dds19[:10][\"동\"])\n",
    "b = list(dds19[-10:][\"동\"])\n",
    "print(f\"평균 일 매출이 상위 10개 동은 :{a}\")\n",
    "# 삼성동\n",
    "print(f\"평균 일 매출이 하위 10개 동은 :{b}\")"
   ]
  },
  {
   "cell_type": "code",
   "execution_count": 73,
   "metadata": {},
   "outputs": [],
   "source": [
    "daily_dong_sales1920 = daily_dong_sales1920.loc[daily_dong_sales1920[\"동\"].isin(dds19[:10].append(dds19[-10:])[\"동\"])].reset_index().drop(\"index\", axis=1)"
   ]
  },
  {
   "cell_type": "code",
   "execution_count": 74,
   "metadata": {},
   "outputs": [],
   "source": [
    "# 상하위 열개동 \n",
    "daily_dong_sales1920.to_csv(\"1029_0928_매출상하위10개.csv\")"
   ]
  },
  {
   "cell_type": "code",
   "execution_count": null,
   "metadata": {},
   "outputs": [],
   "source": []
  },
  {
   "cell_type": "code",
   "execution_count": null,
   "metadata": {},
   "outputs": [],
   "source": []
  },
  {
   "cell_type": "code",
   "execution_count": null,
   "metadata": {},
   "outputs": [],
   "source": []
  },
  {
   "cell_type": "markdown",
   "metadata": {},
   "source": [
    "# living 기준으로 다른거 붙이기 (지하철, 코로나)\n",
    "### 동이름 변경한거 동일하게 적용해야"
   ]
  },
  {
   "cell_type": "code",
   "execution_count": 297,
   "metadata": {},
   "outputs": [],
   "source": [
    "teul = living.iloc[:,:6]\n"
   ]
  },
  {
   "cell_type": "code",
   "execution_count": null,
   "metadata": {},
   "outputs": [],
   "source": [
    "['역삼1동', '여의동', '종로1.2.3.4가동', '서교동', '명동', '서초3동', '청담동', '압구정동', '가양1동', '논현2동']\n",
    "강남구, 영등포구, 종로구, 마포구, 중구, 서초구, 강남구, 강남구, 강서구, 강남구\n",
    "['삼성동', '시흥2동', '신길4동', '응암2동', '돈암2동', '창신3동', '이촌2동', '잠실7동', '개포1동', '둔촌1동']\n",
    "관악구, 금천구, 영등포, 은평구, 성북구, 종로구, 용산구, 송파구, 강남구, 강동구"
   ]
  },
  {
   "cell_type": "code",
   "execution_count": 298,
   "metadata": {},
   "outputs": [],
   "source": [
    "teul[\"월\"] = teul[\"날짜\"].map(lambda x : str(x)[:-2])\n",
    "teul[\"월\"] = teul[\"월\"].map(lambda x : int(x))\n"
   ]
  },
  {
   "cell_type": "code",
   "execution_count": 299,
   "metadata": {},
   "outputs": [
    {
     "data": {
      "text/plain": [
       "(486, 7)"
      ]
     },
     "execution_count": 299,
     "metadata": {},
     "output_type": "execute_result"
    }
   ],
   "source": [
    "teul = teul.loc[teul[\"동\"].isin(dds19[:10].append(dds19[-10:])[\"동\"])]\n",
    "teul.shape"
   ]
  },
  {
   "cell_type": "code",
   "execution_count": null,
   "metadata": {},
   "outputs": [],
   "source": []
  },
  {
   "cell_type": "code",
   "execution_count": 300,
   "metadata": {},
   "outputs": [],
   "source": [
    "subway = pd.read_csv('지하철_승하차승객_및_구정보.csv', encoding='cp949')"
   ]
  },
  {
   "cell_type": "code",
   "execution_count": 301,
   "metadata": {},
   "outputs": [],
   "source": [
    "subway_gu= subway.groupby(['사용월','구'])['총승하차승객수'].sum().to_frame()"
   ]
  },
  {
   "cell_type": "code",
   "execution_count": 302,
   "metadata": {},
   "outputs": [],
   "source": [
    "subway_gu =subway_gu.reset_index()"
   ]
  },
  {
   "cell_type": "code",
   "execution_count": null,
   "metadata": {},
   "outputs": [],
   "source": []
  },
  {
   "cell_type": "code",
   "execution_count": 303,
   "metadata": {},
   "outputs": [],
   "source": [
    "# 구별 유동인구 합 일별\n",
    "subway_gu.columns = ['월', '구', '구별_유동인구']\n",
    "subway_gu = subway_gu.query('월 >= 202002')\n"
   ]
  },
  {
   "cell_type": "code",
   "execution_count": 83,
   "metadata": {},
   "outputs": [
    {
     "data": {
      "text/plain": [
       "(4860, 8)"
      ]
     },
     "execution_count": 83,
     "metadata": {},
     "output_type": "execute_result"
    }
   ],
   "source": [
    "teuled = teul.merge(subway_gu, how=\"inner\")\n",
    "teuled.shape"
   ]
  },
  {
   "cell_type": "code",
   "execution_count": null,
   "metadata": {},
   "outputs": [],
   "source": []
  },
  {
   "cell_type": "code",
   "execution_count": 304,
   "metadata": {},
   "outputs": [],
   "source": [
    "corona = pd.read_csv(\"코로나_재정리.csv\",encoding = 'cp949')\n"
   ]
  },
  {
   "cell_type": "code",
   "execution_count": 306,
   "metadata": {},
   "outputs": [],
   "source": [
    "corona = corona[corona.날짜 >='2020-02-01']\n"
   ]
  },
  {
   "cell_type": "code",
   "execution_count": 305,
   "metadata": {},
   "outputs": [
    {
     "data": {
      "text/html": [
       "<div>\n",
       "<style scoped>\n",
       "    .dataframe tbody tr th:only-of-type {\n",
       "        vertical-align: middle;\n",
       "    }\n",
       "\n",
       "    .dataframe tbody tr th {\n",
       "        vertical-align: top;\n",
       "    }\n",
       "\n",
       "    .dataframe thead th {\n",
       "        text-align: right;\n",
       "    }\n",
       "</style>\n",
       "<table border=\"1\" class=\"dataframe\">\n",
       "  <thead>\n",
       "    <tr style=\"text-align: right;\">\n",
       "      <th></th>\n",
       "      <th>날짜</th>\n",
       "      <th>구</th>\n",
       "      <th>구신규</th>\n",
       "      <th>전국신규</th>\n",
       "      <th>서울신규</th>\n",
       "      <th>동</th>\n",
       "    </tr>\n",
       "  </thead>\n",
       "  <tbody>\n",
       "    <tr>\n",
       "      <th>34541</th>\n",
       "      <td>2020-09-30</td>\n",
       "      <td>중랑구</td>\n",
       "      <td>1</td>\n",
       "      <td>113.0</td>\n",
       "      <td>30</td>\n",
       "      <td>묵2동</td>\n",
       "    </tr>\n",
       "    <tr>\n",
       "      <th>34542</th>\n",
       "      <td>2020-09-30</td>\n",
       "      <td>중랑구</td>\n",
       "      <td>1</td>\n",
       "      <td>113.0</td>\n",
       "      <td>30</td>\n",
       "      <td>망우본동</td>\n",
       "    </tr>\n",
       "    <tr>\n",
       "      <th>34543</th>\n",
       "      <td>2020-09-30</td>\n",
       "      <td>중랑구</td>\n",
       "      <td>1</td>\n",
       "      <td>113.0</td>\n",
       "      <td>30</td>\n",
       "      <td>망우3동</td>\n",
       "    </tr>\n",
       "    <tr>\n",
       "      <th>34544</th>\n",
       "      <td>2020-09-30</td>\n",
       "      <td>중랑구</td>\n",
       "      <td>1</td>\n",
       "      <td>113.0</td>\n",
       "      <td>30</td>\n",
       "      <td>신내1동</td>\n",
       "    </tr>\n",
       "    <tr>\n",
       "      <th>34545</th>\n",
       "      <td>2020-09-30</td>\n",
       "      <td>중랑구</td>\n",
       "      <td>1</td>\n",
       "      <td>113.0</td>\n",
       "      <td>30</td>\n",
       "      <td>신내2동</td>\n",
       "    </tr>\n",
       "  </tbody>\n",
       "</table>\n",
       "</div>"
      ],
      "text/plain": [
       "               날짜    구  구신규   전국신규  서울신규     동\n",
       "34541  2020-09-30  중랑구    1  113.0    30   묵2동\n",
       "34542  2020-09-30  중랑구    1  113.0    30  망우본동\n",
       "34543  2020-09-30  중랑구    1  113.0    30  망우3동\n",
       "34544  2020-09-30  중랑구    1  113.0    30  신내1동\n",
       "34545  2020-09-30  중랑구    1  113.0    30  신내2동"
      ]
     },
     "execution_count": 305,
     "metadata": {},
     "output_type": "execute_result"
    }
   ],
   "source": [
    "corona = corona[corona.날짜 <'2020-10-01']\n",
    "corona.tail()"
   ]
  },
  {
   "cell_type": "code",
   "execution_count": 87,
   "metadata": {},
   "outputs": [
    {
     "data": {
      "text/plain": [
       "날짜        0\n",
       "구         0\n",
       "구신규       0\n",
       "전국신규      1\n",
       "서울신규      0\n",
       "동       142\n",
       "dtype: int64"
      ]
     },
     "execution_count": 87,
     "metadata": {},
     "output_type": "execute_result"
    }
   ],
   "source": [
    "corona.isnull().sum()"
   ]
  },
  {
   "cell_type": "code",
   "execution_count": 307,
   "metadata": {},
   "outputs": [],
   "source": [
    "corona[\"날짜\"] = corona[\"날짜\"].map(lambda x : str(x).replace(\"-\",\"\"))\n",
    "corona[\"날짜\"] = corona[\"날짜\"].map(lambda x : int(x))\n"
   ]
  },
  {
   "cell_type": "code",
   "execution_count": 89,
   "metadata": {},
   "outputs": [],
   "source": [
    "corona = corona.drop_duplicates(subset=['날짜', '구', '구신규', '전국신규', '서울신규']).drop(\"동\",axis=1)"
   ]
  },
  {
   "cell_type": "code",
   "execution_count": 90,
   "metadata": {},
   "outputs": [
    {
     "data": {
      "text/plain": [
       "(4860, 9)"
      ]
     },
     "execution_count": 90,
     "metadata": {},
     "output_type": "execute_result"
    }
   ],
   "source": [
    "res = pd.merge(teuled, corona[['날짜','구', '구신규']], how = \"left\")\n",
    "res.shape\n"
   ]
  },
  {
   "cell_type": "code",
   "execution_count": 91,
   "metadata": {},
   "outputs": [],
   "source": [
    "corona = corona.drop_duplicates(subset=['날짜', '전국신규', '서울신규']).drop([\"구\", \"구신규\"],axis=1)"
   ]
  },
  {
   "cell_type": "code",
   "execution_count": 92,
   "metadata": {},
   "outputs": [
    {
     "data": {
      "text/plain": [
       "(4860, 11)"
      ]
     },
     "execution_count": 92,
     "metadata": {},
     "output_type": "execute_result"
    }
   ],
   "source": [
    "res = res.merge(corona[['날짜', '전국신규','서울신규']], how = \"left\")\n",
    "res.shape"
   ]
  },
  {
   "cell_type": "code",
   "execution_count": 93,
   "metadata": {},
   "outputs": [
    {
     "data": {
      "text/plain": [
       "(4860, 11)"
      ]
     },
     "execution_count": 93,
     "metadata": {},
     "output_type": "execute_result"
    }
   ],
   "source": [
    "res = res.fillna(0)\n",
    "res.shape"
   ]
  },
  {
   "cell_type": "code",
   "execution_count": 308,
   "metadata": {},
   "outputs": [],
   "source": [
    "stores = pd.read_csv('자동화_점포수분기총.csv')"
   ]
  },
  {
   "cell_type": "code",
   "execution_count": 309,
   "metadata": {},
   "outputs": [],
   "source": [
    "stores.drop(['Unnamed: 0', 'Unnamed: 0.1', '생활밀접업종'],axis=1, inplace=True)"
   ]
  },
  {
   "cell_type": "code",
   "execution_count": 310,
   "metadata": {},
   "outputs": [],
   "source": [
    "stores_1 =stores[['행정구역','2020년 1분기전체점포수', '2020년 1분기프랜차이즈점포수', '2020년 1분기일반점포수']]\n",
    "stores_2 =stores[['행정구역','2020년 2분기전체점포수', '2020년 2분기프랜차이즈점포수', '2020년 2분기일반점포수']]\n",
    "stores_1 = stores_1.assign(분기 = \"1분기\")\n",
    "stores_2 = stores_2.assign(분기 = \"2분기\")\n"
   ]
  },
  {
   "cell_type": "code",
   "execution_count": 97,
   "metadata": {},
   "outputs": [
    {
     "data": {
      "text/plain": [
       "Index(['행정구역', '2020년 1분기전체점포수', '2020년 1분기프랜차이즈점포수', '2020년 1분기일반점포수', '분기'], dtype='object')"
      ]
     },
     "execution_count": 97,
     "metadata": {},
     "output_type": "execute_result"
    }
   ],
   "source": [
    "stores_1.columns"
   ]
  },
  {
   "cell_type": "code",
   "execution_count": 98,
   "metadata": {},
   "outputs": [],
   "source": [
    "trial = res.merge(stores_1, left_on = ['동', '분기'], right_on = ['행정구역', '분기'], how=\"left\")"
   ]
  },
  {
   "cell_type": "code",
   "execution_count": 99,
   "metadata": {},
   "outputs": [],
   "source": [
    "trial = trial.merge(stores_2, left_on = ['동', '분기'], right_on = ['행정구역', '분기'], how=\"left\")"
   ]
  },
  {
   "cell_type": "code",
   "execution_count": 100,
   "metadata": {},
   "outputs": [],
   "source": [
    "trial['동_전체음식점수'] = trial['2020년 1분기전체점포수'].combine_first(trial['2020년 2분기전체점포수'])\n",
    "trial['동_프랜차이즈음식점수'] = trial['2020년 1분기프랜차이즈점포수'].combine_first(trial['2020년 2분기프랜차이즈점포수'])\n",
    "trial['동_일반음식점수'] = trial['2020년 1분기일반점포수'].combine_first(trial['2020년 2분기일반점포수'])"
   ]
  },
  {
   "cell_type": "code",
   "execution_count": 101,
   "metadata": {},
   "outputs": [],
   "source": [
    "trial = trial.fillna(0)"
   ]
  },
  {
   "cell_type": "code",
   "execution_count": 102,
   "metadata": {},
   "outputs": [
    {
     "data": {
      "text/plain": [
       "(4860, 22)"
      ]
     },
     "execution_count": 102,
     "metadata": {},
     "output_type": "execute_result"
    }
   ],
   "source": [
    "trial.shape"
   ]
  },
  {
   "cell_type": "markdown",
   "metadata": {},
   "source": [
    "## 매출과 trial 합치기"
   ]
  },
  {
   "cell_type": "code",
   "execution_count": 103,
   "metadata": {},
   "outputs": [],
   "source": [
    "daily_dong_sales1920 = pd.read_csv('동_매출_1920.csv')\n",
    "\n",
    "dds20=daily_dong_sales1920.query(\"TS_YMD>= 20200101\")"
   ]
  },
  {
   "cell_type": "code",
   "execution_count": 104,
   "metadata": {},
   "outputs": [],
   "source": [
    "trial = trial.merge(dds20, left_on=[\"날짜\", \"동\"], right_on = [\"TS_YMD\", \"동\"], how=\"left\")"
   ]
  },
  {
   "cell_type": "code",
   "execution_count": 105,
   "metadata": {},
   "outputs": [],
   "source": [
    "\n",
    "trial.to_csv('1029_1037_20개동매출까지다해썽.csv')"
   ]
  },
  {
   "cell_type": "code",
   "execution_count": null,
   "metadata": {},
   "outputs": [],
   "source": []
  },
  {
   "cell_type": "code",
   "execution_count": null,
   "metadata": {},
   "outputs": [],
   "source": []
  },
  {
   "cell_type": "code",
   "execution_count": 163,
   "metadata": {},
   "outputs": [],
   "source": []
  },
  {
   "cell_type": "markdown",
   "metadata": {},
   "source": [
    " "
   ]
  },
  {
   "cell_type": "markdown",
   "metadata": {},
   "source": [
    "# 회귀분석"
   ]
  },
  {
   "cell_type": "markdown",
   "metadata": {},
   "source": [
    "### 분석 세팅을 합니다"
   ]
  },
  {
   "cell_type": "code",
   "execution_count": 106,
   "metadata": {},
   "outputs": [],
   "source": [
    "\n",
    "import pandas as pd\n",
    "import numpy as np\n",
    "import matplotlib.pyplot as plt\n",
    "import seaborn as sns\n",
    "from statsmodels.formula.api import ols\n"
   ]
  },
  {
   "cell_type": "code",
   "execution_count": 107,
   "metadata": {},
   "outputs": [],
   "source": [
    "%matplotlib inline\n",
    "import matplotlib.pyplot as plt \n",
    "import seaborn as sns    "
   ]
  },
  {
   "cell_type": "code",
   "execution_count": 108,
   "metadata": {},
   "outputs": [],
   "source": [
    "from matplotlib import font_manager, rc\n",
    "font_name = font_manager.FontProperties(fname=\"c:/Windows/Fonts/malgun.ttf\").get_name()\n",
    "rc('font', family=\"gulim\")"
   ]
  },
  {
   "cell_type": "code",
   "execution_count": null,
   "metadata": {},
   "outputs": [],
   "source": []
  },
  {
   "cell_type": "code",
   "execution_count": 336,
   "metadata": {},
   "outputs": [],
   "source": [
    "daily_dong_sales1920 = pd.read_csv('동_매출_1920.csv')\n",
    "dds19=daily_dong_sales1920.query(\"TS_YMD <= 20190831\")\n",
    "dds19 = dds19.groupby(\"동\")[\"동_매출합계\"].mean().to_frame().sort_values(by=\"동_매출합계\", ascending=False).reset_index()\n",
    "# a = list(dds19[:10][\"동\"])\n",
    "# b = list(dds19[-10:][\"동\"])"
   ]
  },
  {
   "cell_type": "code",
   "execution_count": 337,
   "metadata": {},
   "outputs": [],
   "source": [
    "dongs20 = dds19[:10].assign(핫비핫 = '핫플').append(dds19[-10:].assign(핫비핫 = '비핫플'))\n"
   ]
  },
  {
   "cell_type": "code",
   "execution_count": null,
   "metadata": {},
   "outputs": [],
   "source": []
  },
  {
   "cell_type": "code",
   "execution_count": 113,
   "metadata": {},
   "outputs": [],
   "source": [
    "\n",
    "vars= pd.read_csv('1029_1037_20개동매출까지다해썽.csv')\n",
    "# 불안하니까 한번더 걸러보자..\n",
    "vars = vars.query(\"월 <202009 & 월 >202000\")\n",
    "vars = vars.query(\"시도명 =='서울특별시'\")\n",
    "vars.drop(['분기','시도명',  \"Unnamed: 0\", '행정구역_x','행정구역_y',\n",
    "       '2020년 1분기전체점포수', '2020년 1분기프랜차이즈점포수', '2020년 1분기일반점포수',\n",
    "       '2020년 2분기전체점포수', '2020년 2분기프랜차이즈점포수', '2020년 2분기일반점포수','TS_YMD'],axis=1, inplace=True)\n",
    "vars = vars.fillna(0)"
   ]
  },
  {
   "cell_type": "markdown",
   "metadata": {},
   "source": [
    " "
   ]
  },
  {
   "cell_type": "code",
   "execution_count": 115,
   "metadata": {},
   "outputs": [],
   "source": [
    "# 점포 당 매출로 바꾸기\n",
    "vars[\"동_음식점평균결제액\"] = vars['동_매출합계'] / vars['동_전체음식점수']\n",
    "vars.drop(\"동_매출합계\", axis=1, inplace=True)"
   ]
  },
  {
   "cell_type": "markdown",
   "metadata": {},
   "source": [
    "## 상관관계"
   ]
  },
  {
   "cell_type": "code",
   "execution_count": 116,
   "metadata": {},
   "outputs": [],
   "source": [
    "vars = vars[['날짜', '월',  '구', '동','동_음식점평균결제액','생활인구수', '구별_유동인구',  '동_전체음식점수',\n",
    "       '동_프랜차이즈음식점수', '동_일반음식점수','구신규', '전국신규', '서울신규']]"
   ]
  },
  {
   "cell_type": "code",
   "execution_count": 117,
   "metadata": {},
   "outputs": [],
   "source": [
    "vars.columns = ['날짜', '월', '구', '동','동_점포당평균결제액', '동_생활인구', '구_유동인구', '동_전체음식점수', '동_프랜차이즈음식점수',\n",
    "       '동_일반음식점수', '구_신규', '전국_신규', '서울_신규']"
   ]
  },
  {
   "cell_type": "code",
   "execution_count": 118,
   "metadata": {},
   "outputs": [],
   "source": [
    "vars = vars.merge(dongs20[[\"동\", \"핫비핫\"]], how=\"left\")\n"
   ]
  },
  {
   "cell_type": "code",
   "execution_count": 120,
   "metadata": {},
   "outputs": [],
   "source": [
    "var_fc = vars\n",
    "var_fc[\"핫비핫\"] = var_fc[\"핫비핫\"].apply(lambda x: x.replace(\"비핫플\",\"0\"))\n",
    "var_fc[\"핫비핫\"] = var_fc[\"핫비핫\"].apply(lambda x: x.replace(\"핫플\",\"1\"))\n",
    "var_fc[\"핫비핫\"] = var_fc[\"핫비핫\"].apply(int)"
   ]
  },
  {
   "cell_type": "code",
   "execution_count": 122,
   "metadata": {},
   "outputs": [
    {
     "data": {
      "image/png": "[encoded data removed]",
      "text/plain": [
       "<Figure size 504x504 with 2 Axes>"
      ]
     },
     "metadata": {
      "needs_background": "light"
     },
     "output_type": "display_data"
    }
   ],
   "source": [
    "correlation = var_fc.drop(['날짜', '월'],axis=1).corr()\n",
    "# 그림 사이즈 지정\n",
    "fig, ax = plt.subplots( figsize=(7,7) )\n",
    "\n",
    "# 삼각형 마스크를 만든다(위 쪽 삼각형에 True, 아래 삼각형에 False)\n",
    "mask = np.zeros_like(correlation, dtype=np.bool)\n",
    "mask[np.triu_indices_from(mask)] = True\n",
    "\n",
    "# 히트맵을 그린다\n",
    "sns.heatmap(correlation, \n",
    "            cmap = 'RdYlBu_r', \n",
    "            annot = True,   # 실제 값을 표시한다\n",
    "            mask=mask,      # 표시하지 않을 마스크 부분을 지정한다\n",
    "            linewidths=.5,  # 경계면 실선으로 구분하기\n",
    "            cbar_kws={\"shrink\": .5},# 컬러바 크기 절반으로 줄이기\n",
    "            vmin = -1,vmax = 1   # 컬러바 범위 -1 ~ 1\n",
    "           )  \n",
    "plt.show()\n"
   ]
  },
  {
   "cell_type": "markdown",
   "metadata": {},
   "source": [
    "<div class = \"alert alert-block alert-success\">\n",
    "\n",
    "우선 일반점포수 + 프랜차이즈 점포수 = 전체 점포수이기 때문에 높은 상관을 보이는 것입니다.\n",
    "\n",
    "\n",
    "</div>"
   ]
  },
  {
   "cell_type": "markdown",
   "metadata": {},
   "source": [
    "## VIF 확인"
   ]
  },
  {
   "cell_type": "markdown",
   "metadata": {},
   "source": [
    "<div class = \"alert alert-block alert-warning\">\n",
    "회귀분석을 하기 전에, 진정한 독립변수를 골라봐야 합니다. \n",
    "변수가 \"독립\"이어야 결과값을 통해 종속변수에 대한 변수의 영향력을 볼 수 있습니다. 그렇지만 변수끼리 이미 영향을 주고 있다면, 특정 변수의 영향을 제대로 뽑아볼 수 없습니다. 그렇기 때문에 VIF를 확인해서, VIF 10 이상인 (아니면 Tolerance 0.1이하인) 변수 중 선택적으로 제거하여야 합니다.  \n",
    "<br>\n",
    "VIF를 확인하고, 회귀분석에 사용할 변수를 우선적으로 솎아내는 과정이라고 할 수 있습니다.\n",
    "</div>"
   ]
  },
  {
   "cell_type": "code",
   "execution_count": 123,
   "metadata": {},
   "outputs": [],
   "source": [
    "import statsmodels.formula.api as smf\n",
    "\n",
    "def get_vif(exogs, data):\n",
    "\n",
    "\n",
    "    # initialize dictionaries\n",
    "    vif_dict, tolerance_dict = {}, {}\n",
    "\n",
    "    # create formula for each exogenous variable\n",
    "    for exog in exogs:\n",
    "        not_exog = [i for i in exogs if i != exog]\n",
    "        formula = f\"{exog} ~ {' + '.join(not_exog)}\"\n",
    "\n",
    "        # extract r-squared from the fit\n",
    "        r_squared = smf.ols(formula, data=data).fit().rsquared\n",
    "\n",
    "        # calculate VIF\n",
    "        vif = 1/(1 - r_squared)\n",
    "        vif_dict[exog] = vif\n",
    "\n",
    "        # calculate tolerance\n",
    "        tolerance = 1 - r_squared\n",
    "        tolerance_dict[exog] = tolerance\n",
    "\n",
    "    # return VIF DataFrame\n",
    "    df_vif = pd.DataFrame({'VIF': vif_dict, 'Tolerance': tolerance_dict})\n",
    "\n",
    "    return df_vif"
   ]
  },
  {
   "cell_type": "markdown",
   "metadata": {},
   "source": [
    "<div class = \"alert alert-block alert-warning\">\n",
    "<b>설명:</b> <br>\n",
    "일반 점포수와 전체 점포수의 상관관계가 매우 높았습니다. 전체점포수 = 프랜차이즈 + 일반 점포수이기 때문입니다. <br>\n",
    "따라서 전체, 프랜차이즈, 일반 점포수 모두를 독립변수로 사용하면 VIF값이 무한대로 나오기 때문에, 미리 전체 점포수를 제거했습니다.\n",
    "</div>"
   ]
  },
  {
   "cell_type": "code",
   "execution_count": 124,
   "metadata": {},
   "outputs": [
    {
     "data": {
      "text/plain": [
       "Index(['날짜', '월', '구', '동', '동_점포당평균결제액', '동_생활인구', '구_유동인구', '동_전체음식점수',\n",
       "       '동_프랜차이즈음식점수', '동_일반음식점수', '구_신규', '전국_신규', '서울_신규', '핫비핫'],\n",
       "      dtype='object')"
      ]
     },
     "execution_count": 124,
     "metadata": {},
     "output_type": "execute_result"
    }
   ],
   "source": [
    "var_fc.columns"
   ]
  },
  {
   "cell_type": "code",
   "execution_count": 380,
   "metadata": {},
   "outputs": [],
   "source": [
    "# # # 일반 제거\n",
    "# exogs = [ '동_생활인구', '구_유동인구', '동_전체음식점수',\n",
    "#        '동_프랜차이즈음식점수', '구_신규', '전국_신규', '서울_신규', '핫비핫']\n",
    "# get_vif(exogs, var_fc)\n",
    "\n",
    "# # # 프차 제거\n",
    "# exogs = [ '동_생활인구', '구_유동인구', '동_전체음식점수',\n",
    "#        '동_일반음식점수', '구_신규', '전국_신규', '서울_신규', '핫비핫']\n",
    "# get_vif(exogs, var_fc)\n",
    "\n",
    "# # 전체 제거\n",
    "# exogs = [ '동_생활인구', '구_유동인구', \n",
    "#        '동_프랜차이즈음식점수', '동_일반음식점수', '구_신규', '전국_신규', '서울_신규', '핫비핫']\n",
    "# get_vif(exogs, var_fc)\n",
    "\n",
    "# # 전체제거하고 프차제거\n",
    "# exogs = [ '동_생활인구', '구_유동인구', \n",
    "#         '동_일반음식점수', '구_신규', '전국_신규', '서울_신규', '핫비핫']\n",
    "# get_vif(exogs, var_fc)"
   ]
  },
  {
   "cell_type": "code",
   "execution_count": 125,
   "metadata": {},
   "outputs": [
    {
     "data": {
      "text/html": [
       "<div>\n",
       "<style scoped>\n",
       "    .dataframe tbody tr th:only-of-type {\n",
       "        vertical-align: middle;\n",
       "    }\n",
       "\n",
       "    .dataframe tbody tr th {\n",
       "        vertical-align: top;\n",
       "    }\n",
       "\n",
       "    .dataframe thead th {\n",
       "        text-align: right;\n",
       "    }\n",
       "</style>\n",
       "<table border=\"1\" class=\"dataframe\">\n",
       "  <thead>\n",
       "    <tr style=\"text-align: right;\">\n",
       "      <th></th>\n",
       "      <th>VIF</th>\n",
       "      <th>Tolerance</th>\n",
       "    </tr>\n",
       "  </thead>\n",
       "  <tbody>\n",
       "    <tr>\n",
       "      <th>구_신규</th>\n",
       "      <td>1.748146</td>\n",
       "      <td>0.572035</td>\n",
       "    </tr>\n",
       "    <tr>\n",
       "      <th>구_유동인구</th>\n",
       "      <td>1.477186</td>\n",
       "      <td>0.676963</td>\n",
       "    </tr>\n",
       "    <tr>\n",
       "      <th>동_생활인구</th>\n",
       "      <td>4.045967</td>\n",
       "      <td>0.247160</td>\n",
       "    </tr>\n",
       "    <tr>\n",
       "      <th>동_프랜차이즈음식점수</th>\n",
       "      <td>5.197012</td>\n",
       "      <td>0.192418</td>\n",
       "    </tr>\n",
       "    <tr>\n",
       "      <th>서울_신규</th>\n",
       "      <td>1.961000</td>\n",
       "      <td>0.509944</td>\n",
       "    </tr>\n",
       "    <tr>\n",
       "      <th>전국_신규</th>\n",
       "      <td>1.246925</td>\n",
       "      <td>0.801973</td>\n",
       "    </tr>\n",
       "    <tr>\n",
       "      <th>핫비핫</th>\n",
       "      <td>4.240899</td>\n",
       "      <td>0.235799</td>\n",
       "    </tr>\n",
       "  </tbody>\n",
       "</table>\n",
       "</div>"
      ],
      "text/plain": [
       "                  VIF  Tolerance\n",
       "구_신규         1.748146   0.572035\n",
       "구_유동인구       1.477186   0.676963\n",
       "동_생활인구       4.045967   0.247160\n",
       "동_프랜차이즈음식점수  5.197012   0.192418\n",
       "서울_신규        1.961000   0.509944\n",
       "전국_신규        1.246925   0.801973\n",
       "핫비핫          4.240899   0.235799"
      ]
     },
     "execution_count": 125,
     "metadata": {},
     "output_type": "execute_result"
    }
   ],
   "source": [
    "# 전체제거하고 일반제거\n",
    "exogs = [ '동_생활인구', '구_유동인구', \n",
    "       '동_프랜차이즈음식점수',  '구_신규', '전국_신규', '서울_신규', '핫비핫']\n",
    "get_vif(exogs, var_fc)"
   ]
  },
  {
   "cell_type": "markdown",
   "metadata": {},
   "source": [
    "## 회귀분석"
   ]
  },
  {
   "cell_type": "markdown",
   "metadata": {},
   "source": [
    "동_생활인구+구_유동인구+동_프랜차이즈음식점수+구_신규+전국_신규+서울_신규+핫비핫"
   ]
  },
  {
   "cell_type": "code",
   "execution_count": 126,
   "metadata": {},
   "outputs": [],
   "source": [
    "vars['핫비핫'] = vars['핫비핫'].apply(str)\n",
    "vars['핫비핫'] = vars['핫비핫'].apply(lambda x : x.replace(\"1\", \"핫플\"))\n",
    "vars['핫비핫'] = vars['핫비핫'].apply(lambda x : x.replace(\"0\", \"비핫플\"))"
   ]
  },
  {
   "cell_type": "code",
   "execution_count": 127,
   "metadata": {},
   "outputs": [
    {
     "data": {
      "text/plain": [
       "Index(['날짜', '월', '구', '동', '동_점포당평균결제액', '동_생활인구', '구_유동인구', '동_전체음식점수',\n",
       "       '동_프랜차이즈음식점수', '동_일반음식점수', '구_신규', '전국_신규', '서울_신규', '핫비핫'],\n",
       "      dtype='object')"
      ]
     },
     "execution_count": 127,
     "metadata": {},
     "output_type": "execute_result"
    }
   ],
   "source": [
    "vars.columns"
   ]
  },
  {
   "cell_type": "code",
   "execution_count": 128,
   "metadata": {},
   "outputs": [
    {
     "data": {
      "text/html": [
       "<table class=\"simpletable\">\n",
       "<caption>OLS Regression Results</caption>\n",
       "<tr>\n",
       "  <th>Dep. Variable:</th>       <td>동_점포당평균결제액</td>    <th>  R-squared:         </th> <td>   0.676</td> \n",
       "</tr>\n",
       "<tr>\n",
       "  <th>Model:</th>                   <td>OLS</td>       <th>  Adj. R-squared:    </th> <td>   0.675</td> \n",
       "</tr>\n",
       "<tr>\n",
       "  <th>Method:</th>             <td>Least Squares</td>  <th>  F-statistic:       </th> <td>   1267.</td> \n",
       "</tr>\n",
       "<tr>\n",
       "  <th>Date:</th>             <td>Thu, 29 Oct 2020</td> <th>  Prob (F-statistic):</th>  <td>  0.00</td>  \n",
       "</tr>\n",
       "<tr>\n",
       "  <th>Time:</th>                 <td>14:00:45</td>     <th>  Log-Likelihood:    </th> <td> -58914.</td> \n",
       "</tr>\n",
       "<tr>\n",
       "  <th>No. Observations:</th>      <td>  4260</td>      <th>  AIC:               </th> <td>1.178e+05</td>\n",
       "</tr>\n",
       "<tr>\n",
       "  <th>Df Residuals:</th>          <td>  4252</td>      <th>  BIC:               </th> <td>1.179e+05</td>\n",
       "</tr>\n",
       "<tr>\n",
       "  <th>Df Model:</th>              <td>     7</td>      <th>                     </th>     <td> </td>    \n",
       "</tr>\n",
       "<tr>\n",
       "  <th>Covariance Type:</th>      <td>nonrobust</td>    <th>                     </th>     <td> </td>    \n",
       "</tr>\n",
       "</table>\n",
       "<table class=\"simpletable\">\n",
       "<tr>\n",
       "       <td></td>          <th>coef</th>     <th>std err</th>      <th>t</th>      <th>P>|t|</th>  <th>[0.025</th>    <th>0.975]</th>  \n",
       "</tr>\n",
       "<tr>\n",
       "  <th>Intercept</th>   <td> 2.274e+05</td> <td> 9185.506</td> <td>   24.760</td> <td> 0.000</td> <td> 2.09e+05</td> <td> 2.45e+05</td>\n",
       "</tr>\n",
       "<tr>\n",
       "  <th>핫비핫[T.핫플]</th>   <td> 8.085e+05</td> <td> 1.55e+04</td> <td>   52.164</td> <td> 0.000</td> <td> 7.78e+05</td> <td> 8.39e+05</td>\n",
       "</tr>\n",
       "<tr>\n",
       "  <th>동_생활인구</th>      <td>    9.4277</td> <td>    0.254</td> <td>   37.179</td> <td> 0.000</td> <td>    8.931</td> <td>    9.925</td>\n",
       "</tr>\n",
       "<tr>\n",
       "  <th>구_유동인구</th>      <td>   -0.0057</td> <td>    0.001</td> <td>  -10.557</td> <td> 0.000</td> <td>   -0.007</td> <td>   -0.005</td>\n",
       "</tr>\n",
       "<tr>\n",
       "  <th>동_프랜차이즈음식점수</th> <td>-2418.5438</td> <td>   59.138</td> <td>  -40.897</td> <td> 0.000</td> <td>-2534.485</td> <td>-2302.603</td>\n",
       "</tr>\n",
       "<tr>\n",
       "  <th>구_신규</th>        <td>  682.5124</td> <td> 2656.338</td> <td>    0.257</td> <td> 0.797</td> <td>-4525.297</td> <td> 5890.322</td>\n",
       "</tr>\n",
       "<tr>\n",
       "  <th>전국_신규</th>       <td> -291.4096</td> <td>   31.193</td> <td>   -9.342</td> <td> 0.000</td> <td> -352.565</td> <td> -230.254</td>\n",
       "</tr>\n",
       "<tr>\n",
       "  <th>서울_신규</th>       <td> -260.1466</td> <td>  154.574</td> <td>   -1.683</td> <td> 0.092</td> <td> -563.193</td> <td>   42.900</td>\n",
       "</tr>\n",
       "</table>\n",
       "<table class=\"simpletable\">\n",
       "<tr>\n",
       "  <th>Omnibus:</th>       <td>1818.591</td> <th>  Durbin-Watson:     </th> <td>   0.608</td> \n",
       "</tr>\n",
       "<tr>\n",
       "  <th>Prob(Omnibus):</th>  <td> 0.000</td>  <th>  Jarque-Bera (JB):  </th> <td>34896.697</td>\n",
       "</tr>\n",
       "<tr>\n",
       "  <th>Skew:</th>           <td> 1.554</td>  <th>  Prob(JB):          </th> <td>    0.00</td> \n",
       "</tr>\n",
       "<tr>\n",
       "  <th>Kurtosis:</th>       <td>16.673</td>  <th>  Cond. No.          </th> <td>7.79e+07</td> \n",
       "</tr>\n",
       "</table><br/><br/>Warnings:<br/>[1] Standard Errors assume that the covariance matrix of the errors is correctly specified.<br/>[2] The condition number is large, 7.79e+07. This might indicate that there are<br/>strong multicollinearity or other numerical problems."
      ],
      "text/plain": [
       "<class 'statsmodels.iolib.summary.Summary'>\n",
       "\"\"\"\n",
       "                            OLS Regression Results                            \n",
       "==============================================================================\n",
       "Dep. Variable:             동_점포당평균결제액   R-squared:                       0.676\n",
       "Model:                            OLS   Adj. R-squared:                  0.675\n",
       "Method:                 Least Squares   F-statistic:                     1267.\n",
       "Date:                Thu, 29 Oct 2020   Prob (F-statistic):               0.00\n",
       "Time:                        14:00:45   Log-Likelihood:                -58914.\n",
       "No. Observations:                4260   AIC:                         1.178e+05\n",
       "Df Residuals:                    4252   BIC:                         1.179e+05\n",
       "Df Model:                           7                                         \n",
       "Covariance Type:            nonrobust                                         \n",
       "===============================================================================\n",
       "                  coef    std err          t      P>|t|      [0.025      0.975]\n",
       "-------------------------------------------------------------------------------\n",
       "Intercept    2.274e+05   9185.506     24.760      0.000    2.09e+05    2.45e+05\n",
       "핫비핫[T.핫플]    8.085e+05   1.55e+04     52.164      0.000    7.78e+05    8.39e+05\n",
       "동_생활인구          9.4277      0.254     37.179      0.000       8.931       9.925\n",
       "구_유동인구         -0.0057      0.001    -10.557      0.000      -0.007      -0.005\n",
       "동_프랜차이즈음식점수 -2418.5438     59.138    -40.897      0.000   -2534.485   -2302.603\n",
       "구_신규          682.5124   2656.338      0.257      0.797   -4525.297    5890.322\n",
       "전국_신규        -291.4096     31.193     -9.342      0.000    -352.565    -230.254\n",
       "서울_신규        -260.1466    154.574     -1.683      0.092    -563.193      42.900\n",
       "==============================================================================\n",
       "Omnibus:                     1818.591   Durbin-Watson:                   0.608\n",
       "Prob(Omnibus):                  0.000   Jarque-Bera (JB):            34896.697\n",
       "Skew:                           1.554   Prob(JB):                         0.00\n",
       "Kurtosis:                      16.673   Cond. No.                     7.79e+07\n",
       "==============================================================================\n",
       "\n",
       "Warnings:\n",
       "[1] Standard Errors assume that the covariance matrix of the errors is correctly specified.\n",
       "[2] The condition number is large, 7.79e+07. This might indicate that there are\n",
       "strong multicollinearity or other numerical problems.\n",
       "\"\"\""
      ]
     },
     "execution_count": 128,
     "metadata": {},
     "output_type": "execute_result"
    }
   ],
   "source": [
    "a = ols(\"동_점포당평균결제액 ~동_생활인구+구_유동인구+동_프랜차이즈음식점수+구_신규+전국_신규+서울_신규+핫비핫\",data=vars).fit()\n",
    "a.summary()"
   ]
  },
  {
   "cell_type": "code",
   "execution_count": 410,
   "metadata": {},
   "outputs": [
    {
     "data": {
      "text/html": [
       "<table class=\"simpletable\">\n",
       "<caption>OLS Regression Results</caption>\n",
       "<tr>\n",
       "  <th>Dep. Variable:</th>       <td>동_점포당평균결제액</td>    <th>  R-squared:         </th> <td>   0.682</td> \n",
       "</tr>\n",
       "<tr>\n",
       "  <th>Model:</th>                   <td>OLS</td>       <th>  Adj. R-squared:    </th> <td>   0.681</td> \n",
       "</tr>\n",
       "<tr>\n",
       "  <th>Method:</th>             <td>Least Squares</td>  <th>  F-statistic:       </th> <td>   910.8</td> \n",
       "</tr>\n",
       "<tr>\n",
       "  <th>Date:</th>             <td>Thu, 29 Oct 2020</td> <th>  Prob (F-statistic):</th>  <td>  0.00</td>  \n",
       "</tr>\n",
       "<tr>\n",
       "  <th>Time:</th>                 <td>11:35:22</td>     <th>  Log-Likelihood:    </th> <td> -58875.</td> \n",
       "</tr>\n",
       "<tr>\n",
       "  <th>No. Observations:</th>      <td>  4260</td>      <th>  AIC:               </th> <td>1.178e+05</td>\n",
       "</tr>\n",
       "<tr>\n",
       "  <th>Df Residuals:</th>          <td>  4249</td>      <th>  BIC:               </th> <td>1.178e+05</td>\n",
       "</tr>\n",
       "<tr>\n",
       "  <th>Df Model:</th>              <td>    10</td>      <th>                     </th>     <td> </td>    \n",
       "</tr>\n",
       "<tr>\n",
       "  <th>Covariance Type:</th>      <td>nonrobust</td>    <th>                     </th>     <td> </td>    \n",
       "</tr>\n",
       "</table>\n",
       "<table class=\"simpletable\">\n",
       "<tr>\n",
       "         <td></td>            <th>coef</th>     <th>std err</th>      <th>t</th>      <th>P>|t|</th>  <th>[0.025</th>    <th>0.975]</th>  \n",
       "</tr>\n",
       "<tr>\n",
       "  <th>Intercept</th>       <td> 2.061e+05</td> <td> 9466.168</td> <td>   21.777</td> <td> 0.000</td> <td> 1.88e+05</td> <td> 2.25e+05</td>\n",
       "</tr>\n",
       "<tr>\n",
       "  <th>핫비핫[T.핫플]</th>       <td> 8.577e+05</td> <td> 1.65e+04</td> <td>   52.065</td> <td> 0.000</td> <td> 8.25e+05</td> <td>  8.9e+05</td>\n",
       "</tr>\n",
       "<tr>\n",
       "  <th>동_생활인구</th>          <td>    9.3163</td> <td>    0.252</td> <td>   36.942</td> <td> 0.000</td> <td>    8.822</td> <td>    9.811</td>\n",
       "</tr>\n",
       "<tr>\n",
       "  <th>구_유동인구</th>          <td>   -0.0057</td> <td>    0.001</td> <td>  -10.684</td> <td> 0.000</td> <td>   -0.007</td> <td>   -0.005</td>\n",
       "</tr>\n",
       "<tr>\n",
       "  <th>동_프랜차이즈음식점수</th>     <td>-2408.4447</td> <td>   58.864</td> <td>  -40.915</td> <td> 0.000</td> <td>-2523.850</td> <td>-2293.040</td>\n",
       "</tr>\n",
       "<tr>\n",
       "  <th>구_신규</th>            <td> 1380.5012</td> <td> 3233.368</td> <td>    0.427</td> <td> 0.669</td> <td>-4958.588</td> <td> 7719.591</td>\n",
       "</tr>\n",
       "<tr>\n",
       "  <th>구_신규:핫비핫[T.핫플]</th>  <td>-4988.4547</td> <td> 5673.931</td> <td>   -0.879</td> <td> 0.379</td> <td>-1.61e+04</td> <td> 6135.414</td>\n",
       "</tr>\n",
       "<tr>\n",
       "  <th>전국_신규</th>           <td>  -49.1644</td> <td>   43.645</td> <td>   -1.126</td> <td> 0.260</td> <td> -134.732</td> <td>   36.403</td>\n",
       "</tr>\n",
       "<tr>\n",
       "  <th>전국_신규:핫비핫[T.핫플]</th> <td> -483.3468</td> <td>   61.848</td> <td>   -7.815</td> <td> 0.000</td> <td> -604.601</td> <td> -362.092</td>\n",
       "</tr>\n",
       "<tr>\n",
       "  <th>서울_신규</th>           <td> -276.3251</td> <td>  219.123</td> <td>   -1.261</td> <td> 0.207</td> <td> -705.920</td> <td>  153.270</td>\n",
       "</tr>\n",
       "<tr>\n",
       "  <th>서울_신규:핫비핫[T.핫플]</th> <td>  124.4457</td> <td>  309.023</td> <td>    0.403</td> <td> 0.687</td> <td> -481.400</td> <td>  730.292</td>\n",
       "</tr>\n",
       "</table>\n",
       "<table class=\"simpletable\">\n",
       "<tr>\n",
       "  <th>Omnibus:</th>       <td>1856.952</td> <th>  Durbin-Watson:     </th> <td>   0.620</td> \n",
       "</tr>\n",
       "<tr>\n",
       "  <th>Prob(Omnibus):</th>  <td> 0.000</td>  <th>  Jarque-Bera (JB):  </th> <td>38837.626</td>\n",
       "</tr>\n",
       "<tr>\n",
       "  <th>Skew:</th>           <td> 1.573</td>  <th>  Prob(JB):          </th> <td>    0.00</td> \n",
       "</tr>\n",
       "<tr>\n",
       "  <th>Kurtosis:</th>       <td>17.454</td>  <th>  Cond. No.          </th> <td>8.30e+07</td> \n",
       "</tr>\n",
       "</table><br/><br/>Warnings:<br/>[1] Standard Errors assume that the covariance matrix of the errors is correctly specified.<br/>[2] The condition number is large, 8.3e+07. This might indicate that there are<br/>strong multicollinearity or other numerical problems."
      ],
      "text/plain": [
       "<class 'statsmodels.iolib.summary.Summary'>\n",
       "\"\"\"\n",
       "                            OLS Regression Results                            \n",
       "==============================================================================\n",
       "Dep. Variable:             동_점포당평균결제액   R-squared:                       0.682\n",
       "Model:                            OLS   Adj. R-squared:                  0.681\n",
       "Method:                 Least Squares   F-statistic:                     910.8\n",
       "Date:                Thu, 29 Oct 2020   Prob (F-statistic):               0.00\n",
       "Time:                        11:35:22   Log-Likelihood:                -58875.\n",
       "No. Observations:                4260   AIC:                         1.178e+05\n",
       "Df Residuals:                    4249   BIC:                         1.178e+05\n",
       "Df Model:                          10                                         \n",
       "Covariance Type:            nonrobust                                         \n",
       "===================================================================================\n",
       "                      coef    std err          t      P>|t|      [0.025      0.975]\n",
       "-----------------------------------------------------------------------------------\n",
       "Intercept        2.061e+05   9466.168     21.777      0.000    1.88e+05    2.25e+05\n",
       "핫비핫[T.핫플]        8.577e+05   1.65e+04     52.065      0.000    8.25e+05     8.9e+05\n",
       "동_생활인구              9.3163      0.252     36.942      0.000       8.822       9.811\n",
       "구_유동인구             -0.0057      0.001    -10.684      0.000      -0.007      -0.005\n",
       "동_프랜차이즈음식점수     -2408.4447     58.864    -40.915      0.000   -2523.850   -2293.040\n",
       "구_신규             1380.5012   3233.368      0.427      0.669   -4958.588    7719.591\n",
       "구_신규:핫비핫[T.핫플]  -4988.4547   5673.931     -0.879      0.379   -1.61e+04    6135.414\n",
       "전국_신규             -49.1644     43.645     -1.126      0.260    -134.732      36.403\n",
       "전국_신규:핫비핫[T.핫플]  -483.3468     61.848     -7.815      0.000    -604.601    -362.092\n",
       "서울_신규            -276.3251    219.123     -1.261      0.207    -705.920     153.270\n",
       "서울_신규:핫비핫[T.핫플]   124.4457    309.023      0.403      0.687    -481.400     730.292\n",
       "==============================================================================\n",
       "Omnibus:                     1856.952   Durbin-Watson:                   0.620\n",
       "Prob(Omnibus):                  0.000   Jarque-Bera (JB):            38837.626\n",
       "Skew:                           1.573   Prob(JB):                         0.00\n",
       "Kurtosis:                      17.454   Cond. No.                     8.30e+07\n",
       "==============================================================================\n",
       "\n",
       "Warnings:\n",
       "[1] Standard Errors assume that the covariance matrix of the errors is correctly specified.\n",
       "[2] The condition number is large, 8.3e+07. This might indicate that there are\n",
       "strong multicollinearity or other numerical problems.\n",
       "\"\"\""
      ]
     },
     "execution_count": 410,
     "metadata": {},
     "output_type": "execute_result"
    }
   ],
   "source": [
    "b = ols(\"동_점포당평균결제액 ~동_생활인구+구_유동인구+동_프랜차이즈음식점수+구_신규+전국_신규+서울_신규+핫비핫+구_신규:핫비핫+전국_신규:핫비핫+서울_신규:핫비핫\",data=vars).fit()\n",
    "b.summary()"
   ]
  },
  {
   "cell_type": "code",
   "execution_count": 414,
   "metadata": {},
   "outputs": [
    {
     "data": {
      "text/html": [
       "<table class=\"simpletable\">\n",
       "<caption>OLS Regression Results</caption>\n",
       "<tr>\n",
       "  <th>Dep. Variable:</th>       <td>동_점포당평균결제액</td>    <th>  R-squared:         </th> <td>   0.682</td> \n",
       "</tr>\n",
       "<tr>\n",
       "  <th>Model:</th>                   <td>OLS</td>       <th>  Adj. R-squared:    </th> <td>   0.681</td> \n",
       "</tr>\n",
       "<tr>\n",
       "  <th>Method:</th>             <td>Least Squares</td>  <th>  F-statistic:       </th> <td>   1012.</td> \n",
       "</tr>\n",
       "<tr>\n",
       "  <th>Date:</th>             <td>Thu, 29 Oct 2020</td> <th>  Prob (F-statistic):</th>  <td>  0.00</td>  \n",
       "</tr>\n",
       "<tr>\n",
       "  <th>Time:</th>                 <td>11:46:06</td>     <th>  Log-Likelihood:    </th> <td> -58875.</td> \n",
       "</tr>\n",
       "<tr>\n",
       "  <th>No. Observations:</th>      <td>  4260</td>      <th>  AIC:               </th> <td>1.178e+05</td>\n",
       "</tr>\n",
       "<tr>\n",
       "  <th>Df Residuals:</th>          <td>  4250</td>      <th>  BIC:               </th> <td>1.178e+05</td>\n",
       "</tr>\n",
       "<tr>\n",
       "  <th>Df Model:</th>              <td>     9</td>      <th>                     </th>     <td> </td>    \n",
       "</tr>\n",
       "<tr>\n",
       "  <th>Covariance Type:</th>      <td>nonrobust</td>    <th>                     </th>     <td> </td>    \n",
       "</tr>\n",
       "</table>\n",
       "<table class=\"simpletable\">\n",
       "<tr>\n",
       "         <td></td>            <th>coef</th>     <th>std err</th>      <th>t</th>      <th>P>|t|</th>  <th>[0.025</th>    <th>0.975]</th>  \n",
       "</tr>\n",
       "<tr>\n",
       "  <th>Intercept</th>       <td> 2.058e+05</td> <td> 9435.498</td> <td>   21.816</td> <td> 0.000</td> <td> 1.87e+05</td> <td> 2.24e+05</td>\n",
       "</tr>\n",
       "<tr>\n",
       "  <th>핫비핫[T.핫플]</th>       <td> 8.581e+05</td> <td> 1.64e+04</td> <td>   52.225</td> <td> 0.000</td> <td> 8.26e+05</td> <td>  8.9e+05</td>\n",
       "</tr>\n",
       "<tr>\n",
       "  <th>동_생활인구</th>          <td>    9.3128</td> <td>    0.252</td> <td>   36.954</td> <td> 0.000</td> <td>    8.819</td> <td>    9.807</td>\n",
       "</tr>\n",
       "<tr>\n",
       "  <th>구_유동인구</th>          <td>   -0.0057</td> <td>    0.001</td> <td>  -10.683</td> <td> 0.000</td> <td>   -0.007</td> <td>   -0.005</td>\n",
       "</tr>\n",
       "<tr>\n",
       "  <th>동_프랜차이즈음식점수</th>     <td>-2407.3753</td> <td>   58.799</td> <td>  -40.943</td> <td> 0.000</td> <td>-2522.651</td> <td>-2292.099</td>\n",
       "</tr>\n",
       "<tr>\n",
       "  <th>구_신규</th>            <td>  812.4188</td> <td> 2909.130</td> <td>    0.279</td> <td> 0.780</td> <td>-4890.996</td> <td> 6515.833</td>\n",
       "</tr>\n",
       "<tr>\n",
       "  <th>구_신규:핫비핫[T.핫플]</th>  <td>-3608.6247</td> <td> 4522.095</td> <td>   -0.798</td> <td> 0.425</td> <td>-1.25e+04</td> <td> 5257.043</td>\n",
       "</tr>\n",
       "<tr>\n",
       "  <th>전국_신규</th>           <td>  -53.4912</td> <td>   42.298</td> <td>   -1.265</td> <td> 0.206</td> <td> -136.417</td> <td>   29.435</td>\n",
       "</tr>\n",
       "<tr>\n",
       "  <th>전국_신규:핫비핫[T.핫플]</th> <td> -475.2111</td> <td>   58.450</td> <td>   -8.130</td> <td> 0.000</td> <td> -589.803</td> <td> -360.619</td>\n",
       "</tr>\n",
       "<tr>\n",
       "  <th>서울_신규</th>           <td> -213.8382</td> <td>  154.704</td> <td>   -1.382</td> <td> 0.167</td> <td> -517.138</td> <td>   89.462</td>\n",
       "</tr>\n",
       "</table>\n",
       "<table class=\"simpletable\">\n",
       "<tr>\n",
       "  <th>Omnibus:</th>       <td>1857.942</td> <th>  Durbin-Watson:     </th> <td>   0.619</td> \n",
       "</tr>\n",
       "<tr>\n",
       "  <th>Prob(Omnibus):</th>  <td> 0.000</td>  <th>  Jarque-Bera (JB):  </th> <td>38885.150</td>\n",
       "</tr>\n",
       "<tr>\n",
       "  <th>Skew:</th>           <td> 1.574</td>  <th>  Prob(JB):          </th> <td>    0.00</td> \n",
       "</tr>\n",
       "<tr>\n",
       "  <th>Kurtosis:</th>       <td>17.462</td>  <th>  Cond. No.          </th> <td>8.29e+07</td> \n",
       "</tr>\n",
       "</table><br/><br/>Warnings:<br/>[1] Standard Errors assume that the covariance matrix of the errors is correctly specified.<br/>[2] The condition number is large, 8.29e+07. This might indicate that there are<br/>strong multicollinearity or other numerical problems."
      ],
      "text/plain": [
       "<class 'statsmodels.iolib.summary.Summary'>\n",
       "\"\"\"\n",
       "                            OLS Regression Results                            \n",
       "==============================================================================\n",
       "Dep. Variable:             동_점포당평균결제액   R-squared:                       0.682\n",
       "Model:                            OLS   Adj. R-squared:                  0.681\n",
       "Method:                 Least Squares   F-statistic:                     1012.\n",
       "Date:                Thu, 29 Oct 2020   Prob (F-statistic):               0.00\n",
       "Time:                        11:46:06   Log-Likelihood:                -58875.\n",
       "No. Observations:                4260   AIC:                         1.178e+05\n",
       "Df Residuals:                    4250   BIC:                         1.178e+05\n",
       "Df Model:                           9                                         \n",
       "Covariance Type:            nonrobust                                         \n",
       "===================================================================================\n",
       "                      coef    std err          t      P>|t|      [0.025      0.975]\n",
       "-----------------------------------------------------------------------------------\n",
       "Intercept        2.058e+05   9435.498     21.816      0.000    1.87e+05    2.24e+05\n",
       "핫비핫[T.핫플]        8.581e+05   1.64e+04     52.225      0.000    8.26e+05     8.9e+05\n",
       "동_생활인구              9.3128      0.252     36.954      0.000       8.819       9.807\n",
       "구_유동인구             -0.0057      0.001    -10.683      0.000      -0.007      -0.005\n",
       "동_프랜차이즈음식점수     -2407.3753     58.799    -40.943      0.000   -2522.651   -2292.099\n",
       "구_신규              812.4188   2909.130      0.279      0.780   -4890.996    6515.833\n",
       "구_신규:핫비핫[T.핫플]  -3608.6247   4522.095     -0.798      0.425   -1.25e+04    5257.043\n",
       "전국_신규             -53.4912     42.298     -1.265      0.206    -136.417      29.435\n",
       "전국_신규:핫비핫[T.핫플]  -475.2111     58.450     -8.130      0.000    -589.803    -360.619\n",
       "서울_신규            -213.8382    154.704     -1.382      0.167    -517.138      89.462\n",
       "==============================================================================\n",
       "Omnibus:                     1857.942   Durbin-Watson:                   0.619\n",
       "Prob(Omnibus):                  0.000   Jarque-Bera (JB):            38885.150\n",
       "Skew:                           1.574   Prob(JB):                         0.00\n",
       "Kurtosis:                      17.462   Cond. No.                     8.29e+07\n",
       "==============================================================================\n",
       "\n",
       "Warnings:\n",
       "[1] Standard Errors assume that the covariance matrix of the errors is correctly specified.\n",
       "[2] The condition number is large, 8.29e+07. This might indicate that there are\n",
       "strong multicollinearity or other numerical problems.\n",
       "\"\"\""
      ]
     },
     "execution_count": 414,
     "metadata": {},
     "output_type": "execute_result"
    }
   ],
   "source": [
    "c = ols(\"동_점포당평균결제액 ~동_생활인구+구_유동인구+동_프랜차이즈음식점수+구_신규+전국_신규+서울_신규+핫비핫+구_신규:핫비핫+전국_신규:핫비핫\",data=vars).fit()\n",
    "c.summary()"
   ]
  },
  {
   "cell_type": "code",
   "execution_count": null,
   "metadata": {},
   "outputs": [],
   "source": []
  },
  {
   "cell_type": "markdown",
   "metadata": {},
   "source": [
    "# 시각화"
   ]
  },
  {
   "cell_type": "code",
   "execution_count": 314,
   "metadata": {},
   "outputs": [],
   "source": [
    "# 핫비핫 점포당 평균 일 결제액\n",
    "k = vars.groupby(['월', '핫비핫'])['동_점포당평균결제액'].mean().to_frame().reset_index()\n",
    "k[\"월\"] = k[\"월\"].apply(str)\n",
    "k = k.pivot(\"월\", \"핫비핫\", \"동_점포당평균결제액\")"
   ]
  },
  {
   "cell_type": "code",
   "execution_count": 317,
   "metadata": {},
   "outputs": [],
   "source": [
    "k = k.pivot(\"월\", \"핫비핫\", \"동_점포당평균결제액\")"
   ]
  },
  {
   "cell_type": "code",
   "execution_count": 318,
   "metadata": {},
   "outputs": [
    {
     "data": {
      "text/html": [
       "<div>\n",
       "<style scoped>\n",
       "    .dataframe tbody tr th:only-of-type {\n",
       "        vertical-align: middle;\n",
       "    }\n",
       "\n",
       "    .dataframe tbody tr th {\n",
       "        vertical-align: top;\n",
       "    }\n",
       "\n",
       "    .dataframe thead th {\n",
       "        text-align: right;\n",
       "    }\n",
       "</style>\n",
       "<table border=\"1\" class=\"dataframe\">\n",
       "  <thead>\n",
       "    <tr style=\"text-align: right;\">\n",
       "      <th>핫비핫</th>\n",
       "      <th>비핫플</th>\n",
       "      <th>핫플</th>\n",
       "    </tr>\n",
       "    <tr>\n",
       "      <th>월</th>\n",
       "      <th></th>\n",
       "      <th></th>\n",
       "    </tr>\n",
       "  </thead>\n",
       "  <tbody>\n",
       "    <tr>\n",
       "      <th>202002</th>\n",
       "      <td>224792.611247</td>\n",
       "      <td>859772.088447</td>\n",
       "    </tr>\n",
       "    <tr>\n",
       "      <th>202003</th>\n",
       "      <td>212724.940099</td>\n",
       "      <td>694933.579386</td>\n",
       "    </tr>\n",
       "    <tr>\n",
       "      <th>202004</th>\n",
       "      <td>222005.190304</td>\n",
       "      <td>832903.366889</td>\n",
       "    </tr>\n",
       "    <tr>\n",
       "      <th>202005</th>\n",
       "      <td>283789.745457</td>\n",
       "      <td>941193.174441</td>\n",
       "    </tr>\n",
       "    <tr>\n",
       "      <th>202006</th>\n",
       "      <td>239018.744661</td>\n",
       "      <td>872663.164534</td>\n",
       "    </tr>\n",
       "    <tr>\n",
       "      <th>202007</th>\n",
       "      <td>207831.592890</td>\n",
       "      <td>958962.040874</td>\n",
       "    </tr>\n",
       "    <tr>\n",
       "      <th>202008</th>\n",
       "      <td>200835.365853</td>\n",
       "      <td>757142.430265</td>\n",
       "    </tr>\n",
       "  </tbody>\n",
       "</table>\n",
       "</div>"
      ],
      "text/plain": [
       "핫비핫               비핫플             핫플\n",
       "월                                   \n",
       "202002  224792.611247  859772.088447\n",
       "202003  212724.940099  694933.579386\n",
       "202004  222005.190304  832903.366889\n",
       "202005  283789.745457  941193.174441\n",
       "202006  239018.744661  872663.164534\n",
       "202007  207831.592890  958962.040874\n",
       "202008  200835.365853  757142.430265"
      ]
     },
     "execution_count": 318,
     "metadata": {},
     "output_type": "execute_result"
    }
   ],
   "source": [
    "k"
   ]
  },
  {
   "cell_type": "code",
   "execution_count": null,
   "metadata": {},
   "outputs": [],
   "source": []
  },
  {
   "cell_type": "code",
   "execution_count": null,
   "metadata": {},
   "outputs": [],
   "source": []
  },
  {
   "cell_type": "code",
   "execution_count": null,
   "metadata": {},
   "outputs": [],
   "source": []
  },
  {
   "cell_type": "code",
   "execution_count": null,
   "metadata": {},
   "outputs": [],
   "source": [
    "# 핫비핫 점포당 평균 일 결제액\n",
    "k = vars.groupby(['월', '핫비핫'])['동_점포당평균결제액'].mean().to_frame().reset_index()\n",
    "k[\"월\"] = k[\"월\"].apply(str)\n",
    "k = k.pivot(\"월\", \"핫비핫\", \"동_점포당평균결제액\")"
   ]
  },
  {
   "cell_type": "code",
   "execution_count": 445,
   "metadata": {},
   "outputs": [
    {
     "data": {
      "image/png": "[encoded data removed]",
      "text/plain": [
       "<Figure size 1080x360 with 1 Axes>"
      ]
     },
     "metadata": {},
     "output_type": "display_data"
    }
   ],
   "source": [
    "sns.set(font=\"Malgun Gothic\", rc = {\"axes.unicode_minus\" : False, \"figure.figsize\":(15,5) }, style = \"darkgrid\")\n",
    "\n",
    "plt.title(label=\"점포 당 일 거래액\",fontsize=25)\n",
    "d = sns.lineplot(data = k)\n",
    "for p in d.patches:\n",
    "    left, bottom, width, height = p.get_bbbox().bounds\n",
    "    plt.annotate(\"%.f\"(height),(left+width/2, height*1.01), ha='center')"
   ]
  },
  {
   "cell_type": "code",
   "execution_count": null,
   "metadata": {},
   "outputs": [],
   "source": []
  },
  {
   "cell_type": "code",
   "execution_count": null,
   "metadata": {},
   "outputs": [],
   "source": []
  },
  {
   "cell_type": "code",
   "execution_count": 7,
   "metadata": {},
   "outputs": [],
   "source": [
    "daily_dong_sales1920 = pd.read_csv('동_매출_1920.csv')\n",
    "dds19=daily_dong_sales1920.query(\"TS_YMD <= 20190831\")\n",
    "dds20=daily_dong_sales1920.query(\"TS_YMD >= 20200831\")\n",
    "dds19 = dds19.groupby(\"동\")[\"동_매출합계\"].mean().to_frame().reset_index()\n",
    "dds20 = dds20.groupby(\"동\")[\"동_매출합계\"].mean().to_frame().reset_index()"
   ]
  },
  {
   "cell_type": "code",
   "execution_count": 8,
   "metadata": {},
   "outputs": [],
   "source": [
    "dds19.columns=['동','2019_동_매출합계']\n",
    "dds20.columns=['동','2020_동_매출합계']"
   ]
  },
  {
   "cell_type": "code",
   "execution_count": 9,
   "metadata": {},
   "outputs": [],
   "source": [
    "dds = dds19.merge(dds20, how='left')"
   ]
  },
  {
   "cell_type": "code",
   "execution_count": 10,
   "metadata": {},
   "outputs": [],
   "source": [
    "dds = dds.assign(매출_2019_대비_2020 = dds['2020_동_매출합계'] / dds['2019_동_매출합계'])\n",
    "dds = dds[['동', '매출_2019_대비_2020']]\n"
   ]
  },
  {
   "cell_type": "code",
   "execution_count": 11,
   "metadata": {},
   "outputs": [
    {
     "data": {
      "text/html": [
       "<div>\n",
       "<style scoped>\n",
       "    .dataframe tbody tr th:only-of-type {\n",
       "        vertical-align: middle;\n",
       "    }\n",
       "\n",
       "    .dataframe tbody tr th {\n",
       "        vertical-align: top;\n",
       "    }\n",
       "\n",
       "    .dataframe thead th {\n",
       "        text-align: right;\n",
       "    }\n",
       "</style>\n",
       "<table border=\"1\" class=\"dataframe\">\n",
       "  <thead>\n",
       "    <tr style=\"text-align: right;\">\n",
       "      <th></th>\n",
       "      <th>동</th>\n",
       "      <th>매출_2019_대비_2020</th>\n",
       "    </tr>\n",
       "  </thead>\n",
       "  <tbody>\n",
       "    <tr>\n",
       "      <th>318</th>\n",
       "      <td>이태원1동</td>\n",
       "      <td>0.202393</td>\n",
       "    </tr>\n",
       "  </tbody>\n",
       "</table>\n",
       "</div>"
      ],
      "text/plain": [
       "         동  매출_2019_대비_2020\n",
       "318  이태원1동         0.202393"
      ]
     },
     "execution_count": 11,
     "metadata": {},
     "output_type": "execute_result"
    }
   ],
   "source": [
    "dds.query('매출_2019_대비_2020 < 0.3')"
   ]
  },
  {
   "cell_type": "code",
   "execution_count": 12,
   "metadata": {},
   "outputs": [
    {
     "data": {
      "text/html": [
       "<div>\n",
       "<style scoped>\n",
       "    .dataframe tbody tr th:only-of-type {\n",
       "        vertical-align: middle;\n",
       "    }\n",
       "\n",
       "    .dataframe tbody tr th {\n",
       "        vertical-align: top;\n",
       "    }\n",
       "\n",
       "    .dataframe thead th {\n",
       "        text-align: right;\n",
       "    }\n",
       "</style>\n",
       "<table border=\"1\" class=\"dataframe\">\n",
       "  <thead>\n",
       "    <tr style=\"text-align: right;\">\n",
       "      <th></th>\n",
       "      <th>동</th>\n",
       "      <th>매출_2019_대비_2020</th>\n",
       "    </tr>\n",
       "  </thead>\n",
       "  <tbody>\n",
       "    <tr>\n",
       "      <th>15</th>\n",
       "      <td>개포1동</td>\n",
       "      <td>0.376491</td>\n",
       "    </tr>\n",
       "    <tr>\n",
       "      <th>56</th>\n",
       "      <td>노량진2동</td>\n",
       "      <td>0.391671</td>\n",
       "    </tr>\n",
       "    <tr>\n",
       "      <th>60</th>\n",
       "      <td>능동</td>\n",
       "      <td>0.396207</td>\n",
       "    </tr>\n",
       "    <tr>\n",
       "      <th>86</th>\n",
       "      <td>돈암1동</td>\n",
       "      <td>0.385980</td>\n",
       "    </tr>\n",
       "    <tr>\n",
       "      <th>87</th>\n",
       "      <td>돈암2동</td>\n",
       "      <td>0.337302</td>\n",
       "    </tr>\n",
       "    <tr>\n",
       "      <th>131</th>\n",
       "      <td>방배2동</td>\n",
       "      <td>0.318150</td>\n",
       "    </tr>\n",
       "    <tr>\n",
       "      <th>149</th>\n",
       "      <td>부암동</td>\n",
       "      <td>0.384934</td>\n",
       "    </tr>\n",
       "    <tr>\n",
       "      <th>186</th>\n",
       "      <td>서강동</td>\n",
       "      <td>0.399727</td>\n",
       "    </tr>\n",
       "    <tr>\n",
       "      <th>187</th>\n",
       "      <td>서교동</td>\n",
       "      <td>0.322560</td>\n",
       "    </tr>\n",
       "    <tr>\n",
       "      <th>211</th>\n",
       "      <td>송중동</td>\n",
       "      <td>0.393381</td>\n",
       "    </tr>\n",
       "    <tr>\n",
       "      <th>260</th>\n",
       "      <td>신촌동</td>\n",
       "      <td>0.377381</td>\n",
       "    </tr>\n",
       "    <tr>\n",
       "      <th>280</th>\n",
       "      <td>연남동</td>\n",
       "      <td>0.372103</td>\n",
       "    </tr>\n",
       "    <tr>\n",
       "      <th>318</th>\n",
       "      <td>이태원1동</td>\n",
       "      <td>0.202393</td>\n",
       "    </tr>\n",
       "  </tbody>\n",
       "</table>\n",
       "</div>"
      ],
      "text/plain": [
       "         동  매출_2019_대비_2020\n",
       "15    개포1동         0.376491\n",
       "56   노량진2동         0.391671\n",
       "60      능동         0.396207\n",
       "86    돈암1동         0.385980\n",
       "87    돈암2동         0.337302\n",
       "131   방배2동         0.318150\n",
       "149    부암동         0.384934\n",
       "186    서강동         0.399727\n",
       "187    서교동         0.322560\n",
       "211    송중동         0.393381\n",
       "260    신촌동         0.377381\n",
       "280    연남동         0.372103\n",
       "318  이태원1동         0.202393"
      ]
     },
     "execution_count": 12,
     "metadata": {},
     "output_type": "execute_result"
    }
   ],
   "source": [
    "dds.query('매출_2019_대비_2020 < 0.4')"
   ]
  },
  {
   "cell_type": "code",
   "execution_count": 16,
   "metadata": {},
   "outputs": [
    {
     "data": {
      "text/plain": [
       "['개포1동',\n",
       " '노량진2동',\n",
       " '능동',\n",
       " '돈암1동',\n",
       " '돈암2동',\n",
       " '방배2동',\n",
       " '부암동',\n",
       " '서강동',\n",
       " '서교동',\n",
       " '송중동',\n",
       " '신촌동',\n",
       " '연남동',\n",
       " '이태원1동']"
      ]
     },
     "execution_count": 16,
     "metadata": {},
     "output_type": "execute_result"
    }
   ],
   "source": [
    "list(dds.query('매출_2019_대비_2020 < 0.4')[\"동\"])"
   ]
  },
  {
   "cell_type": "code",
   "execution_count": 13,
   "metadata": {},
   "outputs": [
    {
     "data": {
      "text/html": [
       "<div>\n",
       "<style scoped>\n",
       "    .dataframe tbody tr th:only-of-type {\n",
       "        vertical-align: middle;\n",
       "    }\n",
       "\n",
       "    .dataframe tbody tr th {\n",
       "        vertical-align: top;\n",
       "    }\n",
       "\n",
       "    .dataframe thead th {\n",
       "        text-align: right;\n",
       "    }\n",
       "</style>\n",
       "<table border=\"1\" class=\"dataframe\">\n",
       "  <thead>\n",
       "    <tr style=\"text-align: right;\">\n",
       "      <th></th>\n",
       "      <th>동</th>\n",
       "      <th>매출_2019_대비_2020</th>\n",
       "    </tr>\n",
       "  </thead>\n",
       "  <tbody>\n",
       "    <tr>\n",
       "      <th>9</th>\n",
       "      <td>갈현1동</td>\n",
       "      <td>0.473051</td>\n",
       "    </tr>\n",
       "    <tr>\n",
       "      <th>15</th>\n",
       "      <td>개포1동</td>\n",
       "      <td>0.376491</td>\n",
       "    </tr>\n",
       "    <tr>\n",
       "      <th>41</th>\n",
       "      <td>금호1가동</td>\n",
       "      <td>0.427646</td>\n",
       "    </tr>\n",
       "    <tr>\n",
       "      <th>53</th>\n",
       "      <td>남현동</td>\n",
       "      <td>0.427577</td>\n",
       "    </tr>\n",
       "    <tr>\n",
       "      <th>55</th>\n",
       "      <td>노량진1동</td>\n",
       "      <td>0.409579</td>\n",
       "    </tr>\n",
       "    <tr>\n",
       "      <th>56</th>\n",
       "      <td>노량진2동</td>\n",
       "      <td>0.391671</td>\n",
       "    </tr>\n",
       "    <tr>\n",
       "      <th>58</th>\n",
       "      <td>논현1동</td>\n",
       "      <td>0.481598</td>\n",
       "    </tr>\n",
       "    <tr>\n",
       "      <th>60</th>\n",
       "      <td>능동</td>\n",
       "      <td>0.396207</td>\n",
       "    </tr>\n",
       "    <tr>\n",
       "      <th>61</th>\n",
       "      <td>다산동</td>\n",
       "      <td>0.497085</td>\n",
       "    </tr>\n",
       "    <tr>\n",
       "      <th>75</th>\n",
       "      <td>대흥동</td>\n",
       "      <td>0.496951</td>\n",
       "    </tr>\n",
       "    <tr>\n",
       "      <th>85</th>\n",
       "      <td>독산4동</td>\n",
       "      <td>0.443216</td>\n",
       "    </tr>\n",
       "    <tr>\n",
       "      <th>86</th>\n",
       "      <td>돈암1동</td>\n",
       "      <td>0.385980</td>\n",
       "    </tr>\n",
       "    <tr>\n",
       "      <th>87</th>\n",
       "      <td>돈암2동</td>\n",
       "      <td>0.337302</td>\n",
       "    </tr>\n",
       "    <tr>\n",
       "      <th>88</th>\n",
       "      <td>동선동</td>\n",
       "      <td>0.403854</td>\n",
       "    </tr>\n",
       "    <tr>\n",
       "      <th>94</th>\n",
       "      <td>등촌3동</td>\n",
       "      <td>0.468048</td>\n",
       "    </tr>\n",
       "    <tr>\n",
       "      <th>126</th>\n",
       "      <td>반포3동</td>\n",
       "      <td>0.412338</td>\n",
       "    </tr>\n",
       "    <tr>\n",
       "      <th>128</th>\n",
       "      <td>반포본동</td>\n",
       "      <td>0.422266</td>\n",
       "    </tr>\n",
       "    <tr>\n",
       "      <th>131</th>\n",
       "      <td>방배2동</td>\n",
       "      <td>0.318150</td>\n",
       "    </tr>\n",
       "    <tr>\n",
       "      <th>149</th>\n",
       "      <td>부암동</td>\n",
       "      <td>0.384934</td>\n",
       "    </tr>\n",
       "    <tr>\n",
       "      <th>155</th>\n",
       "      <td>사근동</td>\n",
       "      <td>0.481298</td>\n",
       "    </tr>\n",
       "    <tr>\n",
       "      <th>156</th>\n",
       "      <td>사당1동</td>\n",
       "      <td>0.461936</td>\n",
       "    </tr>\n",
       "    <tr>\n",
       "      <th>157</th>\n",
       "      <td>사당2동</td>\n",
       "      <td>0.476165</td>\n",
       "    </tr>\n",
       "    <tr>\n",
       "      <th>172</th>\n",
       "      <td>상계2동</td>\n",
       "      <td>0.423306</td>\n",
       "    </tr>\n",
       "    <tr>\n",
       "      <th>186</th>\n",
       "      <td>서강동</td>\n",
       "      <td>0.399727</td>\n",
       "    </tr>\n",
       "    <tr>\n",
       "      <th>187</th>\n",
       "      <td>서교동</td>\n",
       "      <td>0.322560</td>\n",
       "    </tr>\n",
       "    <tr>\n",
       "      <th>190</th>\n",
       "      <td>서원동</td>\n",
       "      <td>0.493164</td>\n",
       "    </tr>\n",
       "    <tr>\n",
       "      <th>194</th>\n",
       "      <td>서초4동</td>\n",
       "      <td>0.465365</td>\n",
       "    </tr>\n",
       "    <tr>\n",
       "      <th>195</th>\n",
       "      <td>석관동</td>\n",
       "      <td>0.481921</td>\n",
       "    </tr>\n",
       "    <tr>\n",
       "      <th>200</th>\n",
       "      <td>성북동</td>\n",
       "      <td>0.443187</td>\n",
       "    </tr>\n",
       "    <tr>\n",
       "      <th>211</th>\n",
       "      <td>송중동</td>\n",
       "      <td>0.393381</td>\n",
       "    </tr>\n",
       "    <tr>\n",
       "      <th>241</th>\n",
       "      <td>신림동</td>\n",
       "      <td>0.453269</td>\n",
       "    </tr>\n",
       "    <tr>\n",
       "      <th>260</th>\n",
       "      <td>신촌동</td>\n",
       "      <td>0.377381</td>\n",
       "    </tr>\n",
       "    <tr>\n",
       "      <th>280</th>\n",
       "      <td>연남동</td>\n",
       "      <td>0.372103</td>\n",
       "    </tr>\n",
       "    <tr>\n",
       "      <th>284</th>\n",
       "      <td>영등포동</td>\n",
       "      <td>0.476759</td>\n",
       "    </tr>\n",
       "    <tr>\n",
       "      <th>289</th>\n",
       "      <td>오륜동</td>\n",
       "      <td>0.483980</td>\n",
       "    </tr>\n",
       "    <tr>\n",
       "      <th>292</th>\n",
       "      <td>왕십리도선동</td>\n",
       "      <td>0.488983</td>\n",
       "    </tr>\n",
       "    <tr>\n",
       "      <th>296</th>\n",
       "      <td>용산2가동</td>\n",
       "      <td>0.457387</td>\n",
       "    </tr>\n",
       "    <tr>\n",
       "      <th>305</th>\n",
       "      <td>월곡1동</td>\n",
       "      <td>0.430006</td>\n",
       "    </tr>\n",
       "    <tr>\n",
       "      <th>318</th>\n",
       "      <td>이태원1동</td>\n",
       "      <td>0.202393</td>\n",
       "    </tr>\n",
       "    <tr>\n",
       "      <th>319</th>\n",
       "      <td>이태원2동</td>\n",
       "      <td>0.417916</td>\n",
       "    </tr>\n",
       "    <tr>\n",
       "      <th>329</th>\n",
       "      <td>자양4동</td>\n",
       "      <td>0.482784</td>\n",
       "    </tr>\n",
       "    <tr>\n",
       "      <th>340</th>\n",
       "      <td>장위2동</td>\n",
       "      <td>0.451853</td>\n",
       "    </tr>\n",
       "    <tr>\n",
       "      <th>344</th>\n",
       "      <td>전농1동</td>\n",
       "      <td>0.498308</td>\n",
       "    </tr>\n",
       "    <tr>\n",
       "      <th>363</th>\n",
       "      <td>중림동</td>\n",
       "      <td>0.476397</td>\n",
       "    </tr>\n",
       "    <tr>\n",
       "      <th>375</th>\n",
       "      <td>창신2동</td>\n",
       "      <td>0.493228</td>\n",
       "    </tr>\n",
       "    <tr>\n",
       "      <th>401</th>\n",
       "      <td>혜화동</td>\n",
       "      <td>0.464989</td>\n",
       "    </tr>\n",
       "    <tr>\n",
       "      <th>414</th>\n",
       "      <td>화양동</td>\n",
       "      <td>0.416147</td>\n",
       "    </tr>\n",
       "    <tr>\n",
       "      <th>420</th>\n",
       "      <td>휘경1동</td>\n",
       "      <td>0.485700</td>\n",
       "    </tr>\n",
       "  </tbody>\n",
       "</table>\n",
       "</div>"
      ],
      "text/plain": [
       "          동  매출_2019_대비_2020\n",
       "9      갈현1동         0.473051\n",
       "15     개포1동         0.376491\n",
       "41    금호1가동         0.427646\n",
       "53      남현동         0.427577\n",
       "55    노량진1동         0.409579\n",
       "56    노량진2동         0.391671\n",
       "58     논현1동         0.481598\n",
       "60       능동         0.396207\n",
       "61      다산동         0.497085\n",
       "75      대흥동         0.496951\n",
       "85     독산4동         0.443216\n",
       "86     돈암1동         0.385980\n",
       "87     돈암2동         0.337302\n",
       "88      동선동         0.403854\n",
       "94     등촌3동         0.468048\n",
       "126    반포3동         0.412338\n",
       "128    반포본동         0.422266\n",
       "131    방배2동         0.318150\n",
       "149     부암동         0.384934\n",
       "155     사근동         0.481298\n",
       "156    사당1동         0.461936\n",
       "157    사당2동         0.476165\n",
       "172    상계2동         0.423306\n",
       "186     서강동         0.399727\n",
       "187     서교동         0.322560\n",
       "190     서원동         0.493164\n",
       "194    서초4동         0.465365\n",
       "195     석관동         0.481921\n",
       "200     성북동         0.443187\n",
       "211     송중동         0.393381\n",
       "241     신림동         0.453269\n",
       "260     신촌동         0.377381\n",
       "280     연남동         0.372103\n",
       "284    영등포동         0.476759\n",
       "289     오륜동         0.483980\n",
       "292  왕십리도선동         0.488983\n",
       "296   용산2가동         0.457387\n",
       "305    월곡1동         0.430006\n",
       "318   이태원1동         0.202393\n",
       "319   이태원2동         0.417916\n",
       "329    자양4동         0.482784\n",
       "340    장위2동         0.451853\n",
       "344    전농1동         0.498308\n",
       "363     중림동         0.476397\n",
       "375    창신2동         0.493228\n",
       "401     혜화동         0.464989\n",
       "414     화양동         0.416147\n",
       "420    휘경1동         0.485700"
      ]
     },
     "execution_count": 13,
     "metadata": {},
     "output_type": "execute_result"
    }
   ],
   "source": [
    "dds.query('매출_2019_대비_2020 < 0.5')"
   ]
  },
  {
   "cell_type": "code",
   "execution_count": 15,
   "metadata": {},
   "outputs": [
    {
     "data": {
      "text/plain": [
       "['갈현1동',\n",
       " '개포1동',\n",
       " '금호1가동',\n",
       " '남현동',\n",
       " '노량진1동',\n",
       " '노량진2동',\n",
       " '논현1동',\n",
       " '능동',\n",
       " '다산동',\n",
       " '대흥동',\n",
       " '독산4동',\n",
       " '돈암1동',\n",
       " '돈암2동',\n",
       " '동선동',\n",
       " '등촌3동',\n",
       " '반포3동',\n",
       " '반포본동',\n",
       " '방배2동',\n",
       " '부암동',\n",
       " '사근동',\n",
       " '사당1동',\n",
       " '사당2동',\n",
       " '상계2동',\n",
       " '서강동',\n",
       " '서교동',\n",
       " '서원동',\n",
       " '서초4동',\n",
       " '석관동',\n",
       " '성북동',\n",
       " '송중동',\n",
       " '신림동',\n",
       " '신촌동',\n",
       " '연남동',\n",
       " '영등포동',\n",
       " '오륜동',\n",
       " '왕십리도선동',\n",
       " '용산2가동',\n",
       " '월곡1동',\n",
       " '이태원1동',\n",
       " '이태원2동',\n",
       " '자양4동',\n",
       " '장위2동',\n",
       " '전농1동',\n",
       " '중림동',\n",
       " '창신2동',\n",
       " '혜화동',\n",
       " '화양동',\n",
       " '휘경1동']"
      ]
     },
     "execution_count": 15,
     "metadata": {},
     "output_type": "execute_result"
    }
   ],
   "source": [
    "list(dds.query('매출_2019_대비_2020 < 0.5')[\"동\"])"
   ]
  },
  {
   "cell_type": "code",
   "execution_count": null,
   "metadata": {},
   "outputs": [],
   "source": []
  },
  {
   "cell_type": "code",
   "execution_count": 18,
   "metadata": {},
   "outputs": [],
   "source": [
    "# daily_dong_sales1920 = pd.read_csv('동_매출_1920.csv')\n",
    "# dds19=daily_dong_sales1920.query(\"TS_YMD <= 20190831\")\n",
    "# dds20=daily_dong_sales1920.query(\"TS_YMD >= 20200831\")\n",
    "# dds19 = dds19.groupby(\"동\")[\"동_매출합계\"].mean().to_frame().reset_index()\n",
    "# dds20 = dds20.groupby(\"동\")[\"동_매출합계\"].mean().to_frame().reset_index()\n",
    "# dds19.columns=['동','2019_동_매출합계']\n",
    "# dds20.columns=['동','2020_동_매출합계']\n",
    "# dds = dds19.merge(dds20, how='left')\n",
    "# dds = dds.assign(매출_2019_대비_2020 = dds['2020_동_매출합계'] / dds['2019_동_매출합계'])\n",
    "\n",
    "\n"
   ]
  },
  {
   "cell_type": "code",
   "execution_count": 247,
   "metadata": {},
   "outputs": [],
   "source": [
    "daily_dong_sales1920 = pd.read_csv('동_매출_1920.csv')\n",
    "dds19=daily_dong_sales1920.query(\"TS_YMD <= 20190831\")\n",
    "dds20=daily_dong_sales1920.query(\"TS_YMD >= 20200101\")"
   ]
  },
  {
   "cell_type": "code",
   "execution_count": 248,
   "metadata": {},
   "outputs": [],
   "source": [
    "dds19 = dds19.groupby([\"동\", \"TS_YMD\"])[\"동_매출합계\"].mean().to_frame().reset_index()\n",
    "dds20 = dds20.groupby([\"동\", \"TS_YMD\"])[\"동_매출합계\"].mean().to_frame().reset_index()"
   ]
  },
  {
   "cell_type": "code",
   "execution_count": 293,
   "metadata": {},
   "outputs": [],
   "source": [
    "def is_outlier(points, thresh=3.5):\n",
    "    if len(points.shape) ==1:\n",
    "        points = points[:,None]\n",
    "    median = np.median(points,axis=0)\n",
    "    diff = np.sum((points-median)**2, axis=1)\n",
    "    diff = np.sqrt(diff)\n",
    "    med_abs_dsviation = np.median(diff)\n",
    "    modified_z = 0.6745 * diff / med_abs_dsviation\n",
    "    return modified_z > thresh"
   ]
  },
  {
   "cell_type": "code",
   "execution_count": null,
   "metadata": {},
   "outputs": [],
   "source": []
  },
  {
   "cell_type": "code",
   "execution_count": 233,
   "metadata": {},
   "outputs": [],
   "source": [
    "# a = dds19[\"동_매출합계\"] / 10000000\n",
    "# a = a[~is_outlier(a)]\n",
    "\n",
    "\n",
    "\n",
    "# b = dds20[\"동_매출합계\"] / 10000000\n",
    "# b = b[~is_outlier(b)]\n",
    "\n",
    "\n",
    "# h1 = (a).to_frame().dropna().reset_index()\n",
    "# h1.columns = [\"아아\", \"2019_동_매출합계\"]\n",
    "\n",
    "# h2 = (b).to_frame().dropna().reset_index()\n",
    "# h2.columns = [\"아아아\", \"2020_동_매출합계\"]"
   ]
  },
  {
   "cell_type": "code",
   "execution_count": 236,
   "metadata": {},
   "outputs": [],
   "source": [
    "#  h =h1[[\"2019_동_매출합계\"]].merge(h2[[\"2020_동_매출합계\"]], how=\"left\", left_index=True, right_index=True)"
   ]
  },
  {
   "cell_type": "code",
   "execution_count": 294,
   "metadata": {},
   "outputs": [
    {
     "data": {
      "text/plain": [
       "<matplotlib.legend.Legend at 0xf636f3ccc0>"
      ]
     },
     "execution_count": 294,
     "metadata": {},
     "output_type": "execute_result"
    },
    {
     "data": {
      "image/png": "[encoded data removed]",
      "text/plain": [
       "<Figure size 1800x720 with 1 Axes>"
      ]
     },
     "metadata": {},
     "output_type": "display_data"
    }
   ],
   "source": [
    "a = dds19[\"동_매출합계\"] / 10000000\n",
    "a = a[~is_outlier(a)]\n",
    "\n",
    "sns.set(font=\"Malgun Gothic\", rc = {\"axes.unicode_minus\" : False, \"figure.figsize\":(25,10) }, style = \"darkgrid\")\n",
    "\n",
    "bins = np.linspace(0,30, 20)\n",
    "\n",
    "plt.hist(a, bins,alpha=0.9, label=\"2019 (단위: 천만원)\",color=\"c\")\n",
    "plt.axvline(a.mean(), color=\"c\", linestyle=\"dashed\", linewidth=3)\n",
    "plt.title(label = \"2019년 일 결제액 분포\",fontsize=25)\n",
    "plt.legend(loc='upper right')"
   ]
  },
  {
   "cell_type": "code",
   "execution_count": 295,
   "metadata": {},
   "outputs": [
    {
     "data": {
      "text/plain": [
       "<matplotlib.legend.Legend at 0xf636fd60b8>"
      ]
     },
     "execution_count": 295,
     "metadata": {},
     "output_type": "execute_result"
    },
    {
     "data": {
      "image/png": "[encoded data removed]",
      "text/plain": [
       "<Figure size 1800x720 with 1 Axes>"
      ]
     },
     "metadata": {},
     "output_type": "display_data"
    }
   ],
   "source": [
    "b = dds20[\"동_매출합계\"] / 10000000\n",
    "b = b[~is_outlier(b)]\n",
    "sns.set({'figure.figsize':(25,10)})\n",
    "bins = np.linspace(0,30, 20)\n",
    "\n",
    "sns.set(font=\"Malgun Gothic\", rc = {\"axes.unicode_minus\" : False, \"figure.figsize\":(25,10) }, style = \"darkgrid\")\n",
    "\n",
    "plt.hist(b, bins,alpha=0.4, label=\"2020 (단위: 천만원)\",color=\"r\")\n",
    "plt.axvline(b.mean(), color=\"r\", linestyle=\"dashed\", linewidth=3)\n",
    "plt.title(label = \"2020년 일 결제액 분포\", fontsize=25)\n",
    "plt.legend(loc='upper right')"
   ]
  },
  {
   "cell_type": "code",
   "execution_count": null,
   "metadata": {},
   "outputs": [],
   "source": []
  },
  {
   "cell_type": "code",
   "execution_count": null,
   "metadata": {},
   "outputs": [],
   "source": []
  }
 ],
 "metadata": {
  "kernelspec": {
   "display_name": "Python 3",
   "language": "python",
   "name": "python3"
  },
  "language_info": {
   "codemirror_mode": {
    "name": "ipython",
    "version": 3
   },
   "file_extension": ".py",
   "mimetype": "text/x-python",
   "name": "python",
   "nbconvert_exporter": "python",
   "pygments_lexer": "ipython3",
   "version": "3.7.4"
  }
 },
 "nbformat": 4,
 "nbformat_minor": 2
}
